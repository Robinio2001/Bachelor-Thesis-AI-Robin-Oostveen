{
  "nbformat": 4,
  "nbformat_minor": 0,
  "metadata": {
    "colab": {
      "provenance": []
    },
    "kernelspec": {
      "name": "python3",
      "display_name": "Python 3"
    },
    "language_info": {
      "name": "python"
    }
  },
  "cells": [
    {
      "cell_type": "code",
      "execution_count": null,
      "metadata": {
        "id": "5R15e5fRz2xl"
      },
      "outputs": [],
      "source": [
        "import pandas as pd\n",
        "import numpy as np"
      ]
    },
    {
      "cell_type": "code",
      "source": [
        "import sys\n",
        "sys.path.insert(0, '/content/drive/My Drive/Bachelor Scriptie KI/Programming/Notebooks')"
      ],
      "metadata": {
        "id": "AHkEZorP0Pfm"
      },
      "execution_count": null,
      "outputs": []
    },
    {
      "cell_type": "code",
      "source": [
        "from google.colab import drive\n",
        "drive.mount('/content/drive')"
      ],
      "metadata": {
        "colab": {
          "base_uri": "https://localhost:8080/"
        },
        "id": "uMNy-JD80Rgz",
        "outputId": "d92dbdf8-dc6e-4f9a-fcd7-c75486ecab71"
      },
      "execution_count": null,
      "outputs": [
        {
          "output_type": "stream",
          "name": "stdout",
          "text": [
            "Drive already mounted at /content/drive; to attempt to forcibly remount, call drive.mount(\"/content/drive\", force_remount=True).\n"
          ]
        }
      ]
    },
    {
      "cell_type": "code",
      "source": [
        "test = pd.read_csv(\"/content/drive/My Drive/Bachelor Scriptie KI/DrugReviews/clean_test_drugscom.csv\", sep=\",\", names=[\"Sentence\", \"Sentiment\"], encoding=\"utf-8\", skiprows=[0])"
      ],
      "metadata": {
        "id": "cY7txcJr0TJC"
      },
      "execution_count": null,
      "outputs": []
    },
    {
      "cell_type": "code",
      "source": [
        "raw_testset = pd.read_csv(\"/content/drive/My Drive/Bachelor Scriptie KI/DrugReviews/drugsComTest_raw.csv\", sep=\",\")"
      ],
      "metadata": {
        "id": "9fyWdbwl3CGB"
      },
      "execution_count": null,
      "outputs": []
    },
    {
      "cell_type": "code",
      "source": [
        "raw_testset = raw_testset.rename(columns={\"review\": \"Sentence\"})"
      ],
      "metadata": {
        "id": "B4lVjO7P4E-W"
      },
      "execution_count": null,
      "outputs": []
    },
    {
      "cell_type": "code",
      "source": [
        "raw_testset"
      ],
      "metadata": {
        "colab": {
          "base_uri": "https://localhost:8080/",
          "height": 423
        },
        "id": "v6iDs_2T3Rvu",
        "outputId": "8cf2ac70-4430-44fa-94b3-142847ed658a"
      },
      "execution_count": null,
      "outputs": [
        {
          "output_type": "execute_result",
          "data": {
            "text/plain": [
              "       uniqueID         drugName                     condition  \\\n",
              "0        163740      Mirtazapine                    Depression   \n",
              "1        206473       Mesalamine  Crohn's Disease, Maintenance   \n",
              "2        159672          Bactrim       Urinary Tract Infection   \n",
              "3         39293         Contrave                   Weight Loss   \n",
              "4         97768  Cyclafem 1 / 35                 Birth Control   \n",
              "...         ...              ...                           ...   \n",
              "53761    159999        Tamoxifen     Breast Cancer, Prevention   \n",
              "53762    140714     Escitalopram                       Anxiety   \n",
              "53763    130945   Levonorgestrel                 Birth Control   \n",
              "53764     47656       Tapentadol                          Pain   \n",
              "53765    113712        Arthrotec                      Sciatica   \n",
              "\n",
              "                                                Sentence  rating       date  \\\n",
              "0      \"I&#039;ve tried a few antidepressants over th...      10  28-Feb-12   \n",
              "1      \"My son has Crohn&#039;s disease and has done ...       8  17-May-09   \n",
              "2                          \"Quick reduction of symptoms\"       9  29-Sep-17   \n",
              "3      \"Contrave combines drugs that were used for al...       9   5-Mar-17   \n",
              "4      \"I have been on this birth control for one cyc...       9  22-Oct-15   \n",
              "...                                                  ...     ...        ...   \n",
              "53761  \"I have taken Tamoxifen for 5 years. Side effe...      10  13-Sep-14   \n",
              "53762  \"I&#039;ve been taking Lexapro (escitaploprgra...       9   8-Oct-16   \n",
              "53763  \"I&#039;m married, 34 years old and I have no ...       8  15-Nov-10   \n",
              "53764  \"I was prescribed Nucynta for severe neck/shou...       1  28-Nov-11   \n",
              "53765                                      \"It works!!!\"       9  13-Sep-09   \n",
              "\n",
              "       usefulCount  \n",
              "0               22  \n",
              "1               17  \n",
              "2                3  \n",
              "3               35  \n",
              "4                4  \n",
              "...            ...  \n",
              "53761           43  \n",
              "53762           11  \n",
              "53763            7  \n",
              "53764           20  \n",
              "53765           46  \n",
              "\n",
              "[53766 rows x 7 columns]"
            ],
            "text/html": [
              "\n",
              "  <div id=\"df-ae454cfb-5815-4ce6-8608-fecfa67ffc49\">\n",
              "    <div class=\"colab-df-container\">\n",
              "      <div>\n",
              "<style scoped>\n",
              "    .dataframe tbody tr th:only-of-type {\n",
              "        vertical-align: middle;\n",
              "    }\n",
              "\n",
              "    .dataframe tbody tr th {\n",
              "        vertical-align: top;\n",
              "    }\n",
              "\n",
              "    .dataframe thead th {\n",
              "        text-align: right;\n",
              "    }\n",
              "</style>\n",
              "<table border=\"1\" class=\"dataframe\">\n",
              "  <thead>\n",
              "    <tr style=\"text-align: right;\">\n",
              "      <th></th>\n",
              "      <th>uniqueID</th>\n",
              "      <th>drugName</th>\n",
              "      <th>condition</th>\n",
              "      <th>Sentence</th>\n",
              "      <th>rating</th>\n",
              "      <th>date</th>\n",
              "      <th>usefulCount</th>\n",
              "    </tr>\n",
              "  </thead>\n",
              "  <tbody>\n",
              "    <tr>\n",
              "      <th>0</th>\n",
              "      <td>163740</td>\n",
              "      <td>Mirtazapine</td>\n",
              "      <td>Depression</td>\n",
              "      <td>\"I&amp;#039;ve tried a few antidepressants over th...</td>\n",
              "      <td>10</td>\n",
              "      <td>28-Feb-12</td>\n",
              "      <td>22</td>\n",
              "    </tr>\n",
              "    <tr>\n",
              "      <th>1</th>\n",
              "      <td>206473</td>\n",
              "      <td>Mesalamine</td>\n",
              "      <td>Crohn's Disease, Maintenance</td>\n",
              "      <td>\"My son has Crohn&amp;#039;s disease and has done ...</td>\n",
              "      <td>8</td>\n",
              "      <td>17-May-09</td>\n",
              "      <td>17</td>\n",
              "    </tr>\n",
              "    <tr>\n",
              "      <th>2</th>\n",
              "      <td>159672</td>\n",
              "      <td>Bactrim</td>\n",
              "      <td>Urinary Tract Infection</td>\n",
              "      <td>\"Quick reduction of symptoms\"</td>\n",
              "      <td>9</td>\n",
              "      <td>29-Sep-17</td>\n",
              "      <td>3</td>\n",
              "    </tr>\n",
              "    <tr>\n",
              "      <th>3</th>\n",
              "      <td>39293</td>\n",
              "      <td>Contrave</td>\n",
              "      <td>Weight Loss</td>\n",
              "      <td>\"Contrave combines drugs that were used for al...</td>\n",
              "      <td>9</td>\n",
              "      <td>5-Mar-17</td>\n",
              "      <td>35</td>\n",
              "    </tr>\n",
              "    <tr>\n",
              "      <th>4</th>\n",
              "      <td>97768</td>\n",
              "      <td>Cyclafem 1 / 35</td>\n",
              "      <td>Birth Control</td>\n",
              "      <td>\"I have been on this birth control for one cyc...</td>\n",
              "      <td>9</td>\n",
              "      <td>22-Oct-15</td>\n",
              "      <td>4</td>\n",
              "    </tr>\n",
              "    <tr>\n",
              "      <th>...</th>\n",
              "      <td>...</td>\n",
              "      <td>...</td>\n",
              "      <td>...</td>\n",
              "      <td>...</td>\n",
              "      <td>...</td>\n",
              "      <td>...</td>\n",
              "      <td>...</td>\n",
              "    </tr>\n",
              "    <tr>\n",
              "      <th>53761</th>\n",
              "      <td>159999</td>\n",
              "      <td>Tamoxifen</td>\n",
              "      <td>Breast Cancer, Prevention</td>\n",
              "      <td>\"I have taken Tamoxifen for 5 years. Side effe...</td>\n",
              "      <td>10</td>\n",
              "      <td>13-Sep-14</td>\n",
              "      <td>43</td>\n",
              "    </tr>\n",
              "    <tr>\n",
              "      <th>53762</th>\n",
              "      <td>140714</td>\n",
              "      <td>Escitalopram</td>\n",
              "      <td>Anxiety</td>\n",
              "      <td>\"I&amp;#039;ve been taking Lexapro (escitaploprgra...</td>\n",
              "      <td>9</td>\n",
              "      <td>8-Oct-16</td>\n",
              "      <td>11</td>\n",
              "    </tr>\n",
              "    <tr>\n",
              "      <th>53763</th>\n",
              "      <td>130945</td>\n",
              "      <td>Levonorgestrel</td>\n",
              "      <td>Birth Control</td>\n",
              "      <td>\"I&amp;#039;m married, 34 years old and I have no ...</td>\n",
              "      <td>8</td>\n",
              "      <td>15-Nov-10</td>\n",
              "      <td>7</td>\n",
              "    </tr>\n",
              "    <tr>\n",
              "      <th>53764</th>\n",
              "      <td>47656</td>\n",
              "      <td>Tapentadol</td>\n",
              "      <td>Pain</td>\n",
              "      <td>\"I was prescribed Nucynta for severe neck/shou...</td>\n",
              "      <td>1</td>\n",
              "      <td>28-Nov-11</td>\n",
              "      <td>20</td>\n",
              "    </tr>\n",
              "    <tr>\n",
              "      <th>53765</th>\n",
              "      <td>113712</td>\n",
              "      <td>Arthrotec</td>\n",
              "      <td>Sciatica</td>\n",
              "      <td>\"It works!!!\"</td>\n",
              "      <td>9</td>\n",
              "      <td>13-Sep-09</td>\n",
              "      <td>46</td>\n",
              "    </tr>\n",
              "  </tbody>\n",
              "</table>\n",
              "<p>53766 rows × 7 columns</p>\n",
              "</div>\n",
              "      <button class=\"colab-df-convert\" onclick=\"convertToInteractive('df-ae454cfb-5815-4ce6-8608-fecfa67ffc49')\"\n",
              "              title=\"Convert this dataframe to an interactive table.\"\n",
              "              style=\"display:none;\">\n",
              "        \n",
              "  <svg xmlns=\"http://www.w3.org/2000/svg\" height=\"24px\"viewBox=\"0 0 24 24\"\n",
              "       width=\"24px\">\n",
              "    <path d=\"M0 0h24v24H0V0z\" fill=\"none\"/>\n",
              "    <path d=\"M18.56 5.44l.94 2.06.94-2.06 2.06-.94-2.06-.94-.94-2.06-.94 2.06-2.06.94zm-11 1L8.5 8.5l.94-2.06 2.06-.94-2.06-.94L8.5 2.5l-.94 2.06-2.06.94zm10 10l.94 2.06.94-2.06 2.06-.94-2.06-.94-.94-2.06-.94 2.06-2.06.94z\"/><path d=\"M17.41 7.96l-1.37-1.37c-.4-.4-.92-.59-1.43-.59-.52 0-1.04.2-1.43.59L10.3 9.45l-7.72 7.72c-.78.78-.78 2.05 0 2.83L4 21.41c.39.39.9.59 1.41.59.51 0 1.02-.2 1.41-.59l7.78-7.78 2.81-2.81c.8-.78.8-2.07 0-2.86zM5.41 20L4 18.59l7.72-7.72 1.47 1.35L5.41 20z\"/>\n",
              "  </svg>\n",
              "      </button>\n",
              "      \n",
              "  <style>\n",
              "    .colab-df-container {\n",
              "      display:flex;\n",
              "      flex-wrap:wrap;\n",
              "      gap: 12px;\n",
              "    }\n",
              "\n",
              "    .colab-df-convert {\n",
              "      background-color: #E8F0FE;\n",
              "      border: none;\n",
              "      border-radius: 50%;\n",
              "      cursor: pointer;\n",
              "      display: none;\n",
              "      fill: #1967D2;\n",
              "      height: 32px;\n",
              "      padding: 0 0 0 0;\n",
              "      width: 32px;\n",
              "    }\n",
              "\n",
              "    .colab-df-convert:hover {\n",
              "      background-color: #E2EBFA;\n",
              "      box-shadow: 0px 1px 2px rgba(60, 64, 67, 0.3), 0px 1px 3px 1px rgba(60, 64, 67, 0.15);\n",
              "      fill: #174EA6;\n",
              "    }\n",
              "\n",
              "    [theme=dark] .colab-df-convert {\n",
              "      background-color: #3B4455;\n",
              "      fill: #D2E3FC;\n",
              "    }\n",
              "\n",
              "    [theme=dark] .colab-df-convert:hover {\n",
              "      background-color: #434B5C;\n",
              "      box-shadow: 0px 1px 3px 1px rgba(0, 0, 0, 0.15);\n",
              "      filter: drop-shadow(0px 1px 2px rgba(0, 0, 0, 0.3));\n",
              "      fill: #FFFFFF;\n",
              "    }\n",
              "  </style>\n",
              "\n",
              "      <script>\n",
              "        const buttonEl =\n",
              "          document.querySelector('#df-ae454cfb-5815-4ce6-8608-fecfa67ffc49 button.colab-df-convert');\n",
              "        buttonEl.style.display =\n",
              "          google.colab.kernel.accessAllowed ? 'block' : 'none';\n",
              "\n",
              "        async function convertToInteractive(key) {\n",
              "          const element = document.querySelector('#df-ae454cfb-5815-4ce6-8608-fecfa67ffc49');\n",
              "          const dataTable =\n",
              "            await google.colab.kernel.invokeFunction('convertToInteractive',\n",
              "                                                     [key], {});\n",
              "          if (!dataTable) return;\n",
              "\n",
              "          const docLinkHtml = 'Like what you see? Visit the ' +\n",
              "            '<a target=\"_blank\" href=https://colab.research.google.com/notebooks/data_table.ipynb>data table notebook</a>'\n",
              "            + ' to learn more about interactive tables.';\n",
              "          element.innerHTML = '';\n",
              "          dataTable['output_type'] = 'display_data';\n",
              "          await google.colab.output.renderOutput(dataTable, element);\n",
              "          const docLink = document.createElement('div');\n",
              "          docLink.innerHTML = docLinkHtml;\n",
              "          element.appendChild(docLink);\n",
              "        }\n",
              "      </script>\n",
              "    </div>\n",
              "  </div>\n",
              "  "
            ]
          },
          "metadata": {},
          "execution_count": 40
        }
      ]
    },
    {
      "cell_type": "code",
      "source": [
        "test.info()"
      ],
      "metadata": {
        "colab": {
          "base_uri": "https://localhost:8080/"
        },
        "id": "1bMA_rzF0k0T",
        "outputId": "20cf39e7-7c55-4238-d3e8-deec2bd31f5d"
      },
      "execution_count": null,
      "outputs": [
        {
          "output_type": "stream",
          "name": "stdout",
          "text": [
            "<class 'pandas.core.frame.DataFrame'>\n",
            "Int64Index: 53766 entries, 0 to 53765\n",
            "Data columns (total 2 columns):\n",
            " #   Column     Non-Null Count  Dtype  \n",
            "---  ------     --------------  -----  \n",
            " 0   Sentence   53766 non-null  object \n",
            " 1   Sentiment  53766 non-null  float64\n",
            "dtypes: float64(1), object(1)\n",
            "memory usage: 1.2+ MB\n"
          ]
        }
      ]
    },
    {
      "cell_type": "code",
      "source": [
        "def convert_index_to_int(stringlist):\n",
        "  intlist = []\n",
        "  for index in stringlist:\n",
        "    converted = int(index)\n",
        "    intlist.append(converted)\n",
        "  return intlist"
      ],
      "metadata": {
        "id": "9s_a0TC-1PIt"
      },
      "execution_count": null,
      "outputs": []
    },
    {
      "cell_type": "code",
      "source": [
        "def get_sentences(dataset, indices):\n",
        "  errors = []\n",
        "  for i in indices:\n",
        "    errors.append(dataset.Sentence[i])\n",
        "  return errors"
      ],
      "metadata": {
        "id": "_snQ_2YF1R4F"
      },
      "execution_count": null,
      "outputs": []
    },
    {
      "cell_type": "code",
      "source": [
        "def sentence_pipeline(dataset, stringlist):\n",
        "  error_indices = convert_index_to_int(stringlist)\n",
        "  error_sents = get_sentences(dataset, error_indices)\n",
        "  for sent in error_sents[:30]:\n",
        "    print(sent)\n",
        "    print(\"-------------------------------\")"
      ],
      "metadata": {
        "id": "P3shPMSO1Tk7"
      },
      "execution_count": null,
      "outputs": []
    },
    {
      "cell_type": "markdown",
      "source": [
        "#Lexicon-based approach"
      ],
      "metadata": {
        "id": "ZqLvOBP-1WCl"
      }
    },
    {
      "cell_type": "markdown",
      "source": [
        "##Positive/negative & negative/positive"
      ],
      "metadata": {
        "id": "l5R8P_QK1af9"
      }
    },
    {
      "cell_type": "code",
      "source": [
        "with open('/content/drive/MyDrive/Bachelor Scriptie KI/Programming/Notebooks/Error Indexes/Medical/updated_LB_medical_pos_neg.txt', 'r') as readfile:\n",
        "    LB_pos_neg_error_index_str = readfile.readlines()"
      ],
      "metadata": {
        "id": "nSW_NKj_1Vfj"
      },
      "execution_count": null,
      "outputs": []
    },
    {
      "cell_type": "code",
      "source": [
        "len(LB_pos_neg_error_index_str)"
      ],
      "metadata": {
        "colab": {
          "base_uri": "https://localhost:8080/"
        },
        "id": "hr1UQM-A1lJU",
        "outputId": "323b1e53-f1fe-4ec0-e382-14b000483837"
      },
      "execution_count": null,
      "outputs": [
        {
          "output_type": "execute_result",
          "data": {
            "text/plain": [
              "1941"
            ]
          },
          "metadata": {},
          "execution_count": 46
        }
      ]
    },
    {
      "cell_type": "code",
      "source": [
        "sentence_pipeline(raw_testset, LB_pos_neg_error_index_str)"
      ],
      "metadata": {
        "colab": {
          "base_uri": "https://localhost:8080/"
        },
        "id": "_zFgp00G32f2",
        "outputId": "75fcca1b-a949-4f54-de36-382c814324be"
      },
      "execution_count": null,
      "outputs": [
        {
          "output_type": "stream",
          "name": "stdout",
          "text": [
            "\"Seemed to help the first month but after that it didn&#039;t and it gave me the dry eyes.\"\n",
            "-------------------------------\n",
            "\"No clue how effective it is but I just took it the first time and I am DYING. I have never felt an itch like this before in my life. This is the most pain I have ever been in, hands down. I would rather live with a yeast infection every day forever than take this stuff. Can&#039;t speak to its effectiveness and don&#039;t really care.\"\n",
            "-------------------------------\n",
            "\"Side effects are tremendous, severe headaches, diarrhea and nearly living on toilet, fever and aches and pains all over. Been taking it for 3 weeks to see if I will ever get use to the side effects and they will subside, so far no. Not sure how much longer I can last on Otezla. Was really hoping it would help...\"\n",
            "-------------------------------\n",
            "\"Does not work well for me.\"\n",
            "-------------------------------\n",
            "\"I&#039;ve only been on this for a few days, and I know my body needs time to adjust, but I just spent the last 4hrs (3-7am!) throwing up without cease. I have had horrible, horrible cramps, like, on-the-floor-screaming cramps (which is why I started taking these pills), but at least those only lasted an hour at a time tops! I&#039;m worried about missing school, and I can at least try to manage my cramps like I have before. I can&#039;t vouch for its effectiveness, only the side effects I suffered, but I may consider trying it again during a break when my body has time to adjust without worrying about missing classes.\"\n",
            "-------------------------------\n",
            "\"Procedure at noon tomorrow. 1st bottle at 17:30. So far BMs at 19:42, 20:22, 20:30 20:34, 20:44 (ca. 1 cup ea. and not explosive); peeing more. This stuff smells like urinal cakes! Tastes like hairspray with long aftertaste. Using rinse-free body wash diluted in warm water to clean after each BM. Applying &quot;Un-petroleum Multi-purpose Jelly&quot; after each BM (no parabens/no petroleum) to assure no razor-blade wiping pain. I am not one to vomit but coming close. Don&#039;t chill it -intensifies taste &amp; body feels chilly/shakey &amp; increases gag reflex. Rinse container good for the H2O-only part! I didn&#039;t do it &amp; the urinal cake smell/taste penetrated the container even w/ only H2O. Next, time it&#039;s unflavored MgSO4 or Epsom Salts. Never again!\"\n",
            "-------------------------------\n",
            "\"It made very aggressive that the police had to come to my house I don&#039;t recommend if your under 18\"\n",
            "-------------------------------\n",
            "\"First time it was smooth going.. second time, severe stomach cramps for 2 days, near tears, would run to bathroom and nothing..worse than the flu, lightheaded, pale face, coldsweat like I was going to pass out, and I&#039;m home alone with a 2 yr old!!\"\n",
            "-------------------------------\n",
            "\"I started this to help with cramping, get my period every 3 months and control other issues. I normally get 1 heavy day and my period lasts for 4 days. Yeah well I have had a heavy period now for 4 days n non stop clotting. Don&#039;t take This!!\"\n",
            "-------------------------------\n",
            "\"Im 36yr old woman who  has polymyostsis it been a struggle for the last 7 years ups and downs. I have relapsed very often. The acthar treatment seems to work I guess once it gets to your system. Side effects are kind of unbearable. I live everyday grateful but hoping it will go into remission. But from what my doctor says the acthar treatment help get my CPK levels under control.\"\n",
            "-------------------------------\n",
            "\"Asacol had no impact on my Crohn&#039;s flare-ups at all. Until the biologic medicines came out, I had no relief at all. I suggest starting with  mild drug like this but to realize that there are so many more options available today if this does not help.\"\n",
            "-------------------------------\n",
            "\"I have tried a few drugs now that are for type 2 Diabetes.  My regular DR sent me to a specialist and she had me try Tradjenta, she said it would help me curb my hungry and such to which it did. The big down fall was that my Blood Sugar went sky rocketing I am also on Lantus pen slow release at night time. We upped my intake at night and it was even higher on fasting.  I have experienced weight gain even though I am not eating as much or carbs.  I have called every week with updates on the issues that I am having with no response from the DR. as of yet.  I have stopped taking this drug and back to just diet and exercise and Lantus at night before bed and guess what, my BS is lower by almost 50 points and this is just one day !\"\n",
            "-------------------------------\n",
            "\"Have taken pills for 12 days without result.  Had lots of hope.....slowly fading away! $208.00 should have do better.....\"\n",
            "-------------------------------\n",
            "\"I have been on Strattera  for 6 years. I take one 18mg a day. When I take it I don&#039;t feel like myself. I feel depressed. I feel tried all the time. So for me I don&#039;t like it but so far they haven&#039;t found anything else that will work  for me.\"\n",
            "-------------------------------\n",
            "\"The Watson patches work well and stick. The Mylan patches are garbage. They do not stick and deliver no relief.\"\n",
            "-------------------------------\n",
            "\"I just started taking this pill not yet through the first week, and already I&#039;m covered in acne which I never had using the IUD. I decided I didn&#039;t want the IUD anymore after the five years were up because it poked my partner and is something I can&#039;t take out myself. Anyways Yasmin has caused me crazy acne like teenager status (I&#039;m 25) and has caused me breast tenderness when I used to feel no tenderness at all. I read the reviews about gaining a cup size.. I hope that doesn&#039;t happen to me, I already have  DD&#039;s. We&#039;ll see how the next few months play out, but so far NOT IMPRESSED\"\n",
            "-------------------------------\n",
            "\"I have found that Xanax does indeed work. It&#039;s quick and relieving. Take it about 20-30 before an anxious event and it will help you. The downside is the tolerance that generally develops very quickly, in my case already after one week.\"\n",
            "-------------------------------\n",
            "\"18 years old and dealing with my second YI. The first time I went straight to Monostat 3 and it worked great without any pain. This time I went for the generic expecting the same experience and boy was I wrong. This is the first night and 5 minutes after hopping into bed the burning began. When it didn&#039;t stop after 10 minutes I jumped to google and found this page. I&#039;m glad to know I&#039;m not the only one with this issue but VERY angry they didn&#039;t say this could happen on the box! A nice &quot;if you&#039;re willing to go through fire to get rid of your YI, then this is for you&quot; would have sufficed. I&#039;m wondering if it has something to do with the product being generic? Has anybody else encountered this?\"\n",
            "-------------------------------\n",
            "\"My periods have been getting very heavy as I&#039;ve been getting older (just turned 40). I was told to start the pack on The Sunday I started my period, so was on my 3rd day. Every day since then I&#039;ve been bleeding various amounts, and some days have had mild cramps. Hoping by the second trial pack this stops. 1 week of heavy period is better than everyday of the month bleeding. My libido is lower, but not sure if that&#039;s the medicine or the fact I&#039;m bleeding daily :(\"\n",
            "-------------------------------\n",
            "\"I have had Nexplanon since May of 2014 it is now August of 2014 and I have been bleeding every since. I have gained 20 pounds since then and I also have acne now. I&#039;m getting this thing taken out as soon as possible. I wish this was the birth control method for me but it&#039;s not. I like the idea of not having to take a pill every single day but after this, I&#039;m willing a and ready to go back to the pill. Good luck if you decide to take this method.\"\n",
            "-------------------------------\n",
            "\"Since I&#039;ve had this inserted, I&#039;ve had bleeding/spotting for 13 months. When I first had it put in a year and a half ago, I had my period for 6 months straight. It is effective when it comes to avoiding pregnancy.\"\n",
            "-------------------------------\n",
            "\"My food cravings are so bad that I&#039;ve gained 9 lbs in 14 days.  My memory is horrible.\r\r\n",
            "Went to the post office and 2 minutes later I forgot I had gone to the post office.  Went to Walmart and forgot what store I was in.  Blurred vision.  Had to hire a driver.  Dizziness.  Yes, it improved my mood, yet I&#039;m getting off of it!\"\n",
            "-------------------------------\n",
            "\"This is my first time getting a YI and I tried to get an appointment with my doctor but they couldn&#039;t see me for another week from now so I went to the pharmacy today to see if I could get something to control the discharge and itching until I can see the doctor and they suggested that I get Monistat 7... so me being the naive person that I am was like oh okay that sounds great! So after I showered tonight I applied day 1 of the application and I promise you this is the worst pain I&#039;ve ever experienced down there in my life! My vagina is on fire, it&#039;s itching and throbbing. I want to just wash this stuff out but I feel like I should give the product a chance. Whoever created this stuff need to readjust the formula because this sucks\"\n",
            "-------------------------------\n",
            "\"Concerns about a birth control drug called &quot;Nikki&quot; - the same exact thing as &quot;Gianvi&quot;? Doubt it: Took Gianvi for 4 years and gained 5 lbs. Then my provider switched me to &quot;Nikki&quot;. In 3 months, I lost 15 pounds. Great, right? No, my backside and breasts went flat. I was alarmed, I looked like a boy, like I didn&#039;t have breasts at all. My OBGYN said it could not *possibly* be the drug and that I should go get a blood test and physical. Tests came back normal. Went off Nikki, gained 10 pounds. Gave Nikki another chance to see if it was a fluke. Quickly lost the 10 pounds I&#039;d regained. I looked like I was dying. Went off Nikki again. Gained all 15 pounds of my weight back. Called my OBGYN again. She says it&#039;s a coincidence. I don&#039;t think so.\"\n",
            "-------------------------------\n",
            "\"So I started saxenda March 5th 2017 and it hasn&#039;t been a week yet but let me tell you these side effects are AWFUL. I&#039;ve woke up twice now vomiting,  I have to eat every bite incredibly slow to make sure I don&#039;t get sick from that bite, nausea, vomiting, sweating. I will definitely give this a go anyway and take my nurses word for it that the side effects will pass. I haven&#039;t been able to take my weight yet so I&#039;m not sure how much I&#039;ve lost. Good luck people it&#039;s pretty rough in the beginning. By the way I&#039;m taking this because I am an autoimmune disease patient and had my thyroid removed\"\n",
            "-------------------------------\n",
            "\"If this medicine works it&#039;s great, however a good amount of the time the patch was as full when it was time to change it as it was when I put it on. Then the side effects they list don&#039;t even come close to everything you go through. However ER Staff have stated that most patients taking this drug usually go back on it as the withdrawals are hard to handle.\"\n",
            "-------------------------------\n",
            "\"I have taken Prozac 20 and 40mg quite a few years ago with really positive outcome, but at a point it stopped working so I went to welbutrin.  recently I started to get panic again and my doctor thought adding Prozac into my daily regimen would help because it worked so well in the past.  The side effects were so difficult for 3 weeks.  crying, unable to eat, anxiety every minute, lost about 10 pounds which was a good side effect :).  but they did subside.  It seemed to be working but now some days I am having anxiety again and tremors daily.  Unfortunately it isn&#039;t working this time around and will be switching off it, but I would definitely recommend it for people since it did once work wonderfully for my panic and GAD.\"\n",
            "-------------------------------\n",
            "\"I initially thought this medication might work. I woke up only 2-3 times each night for the first week and during the day felt I had a bit more control over my bladder. I now think that was merely wishful thinking. Last night (day 5 on the medication), I was up FIVE times. In addition, I have experienced weight gain of 3 pounds and in spite of REALLY wanting it to work, I am still having urge incontinance.   This medication is garbage and the manufacturers are laughing all the way to bank. Over $1000.00 for a 3 month supply ($90.00 after insurance)and I am willing to toss it in the trash. That&#039;s what I think about Vesicare.\"\n",
            "-------------------------------\n",
            "\"My 4 year old was put on a quarter of a 1MG pill. Take in the mornings. He&#039;s been on it for little over a month, at first I kind of saw a little bit of a difference but then things took a dramatic turn! He became very mean, aggressive towards everyone, hitting,biting pushing and crying all the time.:(   his emotions all over the board and he him self could tell.. he would say he donesn&#039;t feel right. So we took him off it. I&#039;m not sure if this pill just did not mash well with him case of his age but I will never recommend this pill for a toddler with adHD\"\n",
            "-------------------------------\n",
            "\"I took this pill for 2 months. I couldn&#039;t take it, I had nausea and vomiting. The only good thing was that I lost 20lbs when I was on it.\"\n",
            "-------------------------------\n"
          ]
        }
      ]
    },
    {
      "cell_type": "code",
      "source": [
        "sentence_pipeline(test, LB_pos_neg_error_index_str)"
      ],
      "metadata": {
        "colab": {
          "base_uri": "https://localhost:8080/"
        },
        "id": "wfRzLr1Q1s4O",
        "outputId": "c38fac9b-d703-47e8-896f-f182b7dfddef"
      },
      "execution_count": null,
      "outputs": [
        {
          "output_type": "stream",
          "name": "stdout",
          "text": [
            "seemed help first month ' gave dry eyes\n",
            "-------------------------------\n",
            "clue effective took first time dying never felt itch like life pain ever hands would rather live yeast infection every day forever take stuff ' speak effectiveness ' really care\n",
            "-------------------------------\n",
            "side effects tremendous severe headaches diarrhea nearly living toilet fever aches pains taking 3 weeks see ever get use side effects subside far sure much longer last otezla really hoping would help ...\n",
            "-------------------------------\n",
            "work well\n",
            "-------------------------------\n",
            "' days know body needs time adjust spent last 4hrs 3-7am throwing without cease horrible horrible cramps like on-the-floor-screaming cramps started taking pills least lasted hour time tops ' worried missing school least try manage cramps like ' vouch effectiveness side effects suffered may consider trying break body time adjust without worrying missing classes\n",
            "-------------------------------\n",
            "procedure noon tomorrow 1st bottle 17:30 far bms 19:42 20:22 20:30 20:34 20:44 ca 1 cup ea explosive peeing stuff smells like urinal cakes tastes like hairspray long aftertaste using rinse-free body wash diluted warm water clean bm applying quot un-petroleum multi-purpose jelly quot bm parabens/no petroleum assure razor-blade wiping pain one vomit coming close ' chill -intensifies taste amp body feels chilly/shakey amp increases gag reflex rinse container good h2o-only part ' amp urinal cake smell/taste penetrated container even w/ h2o next time ' unflavored mgso4 epsom salts never\n",
            "-------------------------------\n",
            "made aggressive police come house ' recommend 18\n",
            "-------------------------------\n",
            "first time smooth going .. second time severe stomach cramps 2 days near tears would run bathroom nothing .. worse flu lightheaded pale face coldsweat like going pass ' home alone 2 yr old\n",
            "-------------------------------\n",
            "started help cramping get period every 3 months control issues normally get 1 heavy day period lasts 4 days yeah well heavy period 4 days n non stop clotting ' take\n",
            "-------------------------------\n",
            "im 36yr old woman polymyostsis struggle last 7 years ups downs relapsed often acthar treatment seems work guess gets system side effects kind unbearable live everyday grateful hoping go remission doctor says acthar treatment help get cpk levels control\n",
            "-------------------------------\n",
            "asacol impact crohn ' flare-ups biologic medicines came relief suggest starting mild drug like realize many options available today help\n",
            "-------------------------------\n",
            "tried drugs type 2 diabetes regular dr sent specialist try tradjenta said would help curb hungry big fall blood sugar went sky rocketing also lantus pen slow release night time upped intake night even higher fasting experienced weight gain even though eating much carbs called every week updates issues response dr. yet stopped taking drug back diet exercise lantus night bed guess bs lower almost 50 points one day\n",
            "-------------------------------\n",
            "taken pills 12 days without result lots hope ..... slowly fading away $ 208.00 better .....\n",
            "-------------------------------\n",
            "strattera 6 years take one 18mg day take ' feel like feel depressed feel tried time ' like far ' found anything else work\n",
            "-------------------------------\n",
            "watson patches work well stick mylan patches garbage stick deliver relief\n",
            "-------------------------------\n",
            "started taking pill yet first week already ' covered acne never using iud decided ' want iud anymore five years poked partner something ' take anyways yasmin caused crazy acne like teenager status ' 25 caused breast tenderness used feel tenderness read reviews gaining cup size .. hope ' happen already dd ' s. ' see next months play far impressed\n",
            "-------------------------------\n",
            "found xanax indeed work ' quick relieving take 20-30 anxious event help downside tolerance generally develops quickly case already one week\n",
            "-------------------------------\n",
            "18 years old dealing second yi first time went straight monostat 3 worked great without pain time went generic expecting experience boy wrong first night 5 minutes hopping bed burning began ' stop 10 minutes jumped google found page ' glad know ' one issue angry ' say could happen box nice quot ' willing go fire get rid yi quot would sufficed ' wondering something product generic anybody else encountered\n",
            "-------------------------------\n",
            "periods getting heavy ' getting older turned 40 told start pack sunday started period 3rd day every day since ' bleeding various amounts days mild cramps hoping second trial pack stops 1 week heavy period better everyday month bleeding libido lower sure ' medicine fact ' bleeding daily\n",
            "-------------------------------\n",
            "nexplanon since may 2014 august 2014 bleeding every since gained 20 pounds since also acne ' getting thing taken soon possible wish birth control method ' like idea take pill every single day ' willing ready go back pill good luck decide take method\n",
            "-------------------------------\n",
            "since ' inserted ' bleeding/spotting 13 months first put year half ago period 6 months straight effective comes avoiding pregnancy\n",
            "-------------------------------\n",
            "food cravings bad ' gained 9 lbs 14 days memory horrible went post office 2 minutes later forgot gone post office went walmart forgot store blurred vision hire driver dizziness yes improved mood yet ' getting\n",
            "-------------------------------\n",
            "first time getting yi tried get appointment doctor ' see another week went pharmacy today see could get something control discharge itching see doctor suggested get monistat 7 ... naive person like oh okay sounds great showered tonight applied day 1 application promise worst pain ' ever experienced life vagina fire ' itching throbbing want wash stuff feel like give product chance whoever created stuff need readjust formula sucks\n",
            "-------------------------------\n",
            "concerns birth control drug called quot nikki quot - exact thing quot gianvi quot doubt took gianvi 4 years gained 5 lbs provider switched quot nikki quot 3 months lost 15 pounds great right backside breasts went flat alarmed looked like boy like ' breasts obgyn said could * possibly * drug go get blood test physical tests came back normal went nikki gained 10 pounds gave nikki another chance see fluke quickly lost 10 pounds ' regained looked like dying went nikki gained 15 pounds weight back called obgyn says ' coincidence ' think\n",
            "-------------------------------\n",
            "started saxenda march 5th 2017 ' week yet let tell side effects awful ' woke twice vomiting eat every bite incredibly slow make sure ' get sick bite nausea vomiting sweating definitely give go anyway take nurses word side effects pass ' able take weight yet ' sure much ' lost good luck people ' pretty rough beginning way ' taking autoimmune disease patient thyroid removed\n",
            "-------------------------------\n",
            "medicine works ' great however good amount time patch full time change put side effects list ' even come close everything go however er staff stated patients taking drug usually go back withdrawals hard handle\n",
            "-------------------------------\n",
            "taken prozac 20 40mg quite years ago really positive outcome point stopped working went welbutrin recently started get panic doctor thought adding prozac daily regimen would help worked well past side effects difficult 3 weeks crying unable eat anxiety every minute lost 10 pounds good side effect subside seemed working days anxiety tremors daily unfortunately ' working time around switching would definitely recommend people since work wonderfully panic gad\n",
            "-------------------------------\n",
            "initially thought medication might work woke 2-3 times night first week day felt bit control bladder think merely wishful thinking last night day 5 medication five times addition experienced weight gain 3 pounds spite really wanting work still urge incontinance medication garbage manufacturers laughing way bank $ 1000.00 3 month supply $ 90.00 insurance willing toss trash ' think vesicare\n",
            "-------------------------------\n",
            "4 year old put quarter 1mg pill take mornings ' little month first kind saw little bit difference things took dramatic turn became mean aggressive towards everyone hitting biting pushing crying time emotions board self could tell .. would say donesn ' feel right took ' sure pill mash well case age never recommend pill toddler adhd\n",
            "-------------------------------\n",
            "took pill 2 months ' take nausea vomiting good thing lost 20lbs\n",
            "-------------------------------\n"
          ]
        }
      ]
    },
    {
      "cell_type": "markdown",
      "source": [
        "##Negative/positive"
      ],
      "metadata": {
        "id": "P3oh5RsfDG_l"
      }
    },
    {
      "cell_type": "code",
      "source": [
        "with open('/content/drive/MyDrive/Bachelor Scriptie KI/Programming/Notebooks/Error Indexes/Medical/updated_LB_medical_neg_pos.txt', 'r') as readfile:\n",
        "    LB_neg_pos_error_index_str = readfile.readlines()"
      ],
      "metadata": {
        "id": "dAerkHkI14Fs"
      },
      "execution_count": null,
      "outputs": []
    },
    {
      "cell_type": "code",
      "source": [
        "len(LB_neg_pos_error_index_str)"
      ],
      "metadata": {
        "colab": {
          "base_uri": "https://localhost:8080/"
        },
        "id": "FmqieuOkDKyE",
        "outputId": "eb17bab4-db1f-45af-9f54-1376984ef8d8"
      },
      "execution_count": null,
      "outputs": [
        {
          "output_type": "execute_result",
          "data": {
            "text/plain": [
              "6632"
            ]
          },
          "metadata": {},
          "execution_count": 54
        }
      ]
    },
    {
      "cell_type": "code",
      "source": [
        "LB_neg_pos_error_index_str[:5]"
      ],
      "metadata": {
        "colab": {
          "base_uri": "https://localhost:8080/"
        },
        "id": "-L0FTOWKDMXD",
        "outputId": "d883ac66-99fb-452d-d29f-3835499fab86"
      },
      "execution_count": null,
      "outputs": [
        {
          "output_type": "execute_result",
          "data": {
            "text/plain": [
              "['19047\\n', '30693\\n', '28936\\n', '31583\\n', '23311\\n']"
            ]
          },
          "metadata": {},
          "execution_count": 55
        }
      ]
    },
    {
      "cell_type": "code",
      "source": [
        "sentence_pipeline(raw_testset, LB_neg_pos_error_index_str)"
      ],
      "metadata": {
        "colab": {
          "base_uri": "https://localhost:8080/"
        },
        "id": "BzNenZGiDQUa",
        "outputId": "5758beeb-b413-4322-cfe7-31e7b4219c72"
      },
      "execution_count": null,
      "outputs": [
        {
          "output_type": "stream",
          "name": "stdout",
          "text": [
            "\"I am 5&#039;7&quot; weigh 109lbs and had three kids over 8lbs. I am anorexic and had been doing everything to maintain a healthy weight. When I started taking Periactin (cyproheptadine), I was gaining 1-2 lbs a day. The only problem is that 3/4 of my day I was sleeping, had dry mouth and very bad mood swings. Due to my heavy work schedule it was hard to continue taking the pills. When I stopped, I lost the weight as quick as I gained it. 4 days ago I started taking it again and gained 5 lbs. This time once I reach my target weight of 130, I will set aside a meal plan to maintain this weight in addition to taking only 2 pills a week. I would highly recommend this medication to anyone who suffers from anorexia or had no appetite.\"\n",
            "-------------------------------\n",
            "\"I was on lo loestrin fe then had to get off for a month because of health insurance mishap.  I got on Sprintec because it is so much cheaper and it is SO much better!  I have a history with depression and this has not caused any problem at all.  In fact I&#039;ve not even had a headache or any stomach pain.  I highly recommend this.\"\n",
            "-------------------------------\n",
            "\"I&#039;ve been on Doxy for about four days, and the nausea is horrible. Today I had to leave my final exam because I was afraid I&#039;d vomit. It&#039;s been that way since the first time I took it. I tried not eating with it, since that&#039;s what the bottle instructs, but the nausea isn&#039;t so bad if I eat. I have noticed improvements though. I&#039;d had a bad respiratory infection for months but didn&#039;t know what it was. Finally got diagnosed and got this, and now I don&#039;t feel like death, but I do have a horrible headache. Didn&#039;t realize it could have been a side effect of it, but that makes sense now. Basically, it&#039;s a good cure for the respiratory infection, but the side effects are bad.\r\n",
            "On a side note, it&#039;ll be cool to see what it does with my mild acne.\"\n",
            "-------------------------------\n",
            "\"Just finished my second course of two weeks on/two off/two on.  I pray this works! The side effects I experienced were between moderate  to severe (flu like, headache, upset stomach). My nose looks like I burned off the entire end/tip.  It is very sore, crusting, oozing- very ugly. But if this is the price I pay for the medicine to hopefully work, I&#039;ve sucked it up!  I had MOHS March of 15 and the new treatment spot is adjacent to the old scar.  Praying this works...\"\n",
            "-------------------------------\n",
            "\"I had been drinking the equivalent of a bottle of gin a day for the last 4 weeks. I&#039;m an alcoholic who had managed to quit 4 years ago but had a serious relapse.\r\n",
            "\r\n",
            "I tried tapering down the booze, but I felt like I was losing my mind with the stuff. I wanted to go cold turkey but the withdrawals were utterly horrific - I&#039;ve never felt so dreadful, the depression was indescribable, I was worried I was actually going clinically insane.\r\n",
            "\r\n",
            "I got an appointment with my doctor and he gave me a Librium prescription. On the first morning of taking the pills, I could have cried with relief at how much better the Librium made me feel - I almost felt &#039;normal&#039; even though I was starting the cold turkey/withdrawal process. No shakes, no anxiety, no dread.\"\n",
            "-------------------------------\n",
            "\"I was put on Celexa about 6 months ago for anxiety attacks and a little bit of depression. After the loss of my Grandpa, I cried a lot and couldn&#039;t even go into Wal-mart alone because I would have an attack and leave the store empty handed. This medicine has done amazing things to me, I am calm, in a better mood, and overall I don&#039;t worry so much about the little things that I can not control in life. I had a few small side effects, but nothing that was more horrible then not leaving the house because you would have panic attacks. I had dry mouth the first couple of weeks but overall I feel amazing and recommend it highly to everyone. Just remember that people&#039;s bodies are different, and it might just not be the one for you.\"\n",
            "-------------------------------\n",
            "\"I was having severe insomnia to the point where I was only getting 1-2 hours, at the most, of sleep a night. I started to hallucinate after a few days of this and was prescribed Ambien. It works fast (within 10 minutes after kicking in to fall asleep), but I only sleep 4-5 hours on it and then wake up refreshed. I don&#039;t get my full 7-8 hours. Not sure what&#039;s up with that. I tried Ambien CR and it took longer to fall asleep on that and I still only got around 4-5 hours of sleep on the CR version. I still use Ambien and it&#039;s better than Lunesta which gave me a nasty taste in my mouth and didn&#039;t even make me tired. Overall, I recommend Ambien.\"\n",
            "-------------------------------\n",
            "\"Had sex with my boyfriend two times n he came in me fully. After 6 hours of physical contact went to Walgreens to buy the pill. Side effects are kinda irritating makes you a demon for a week. Right on spot after a week my period came. Now it&#039;s been a month later my period came again .  Took three pregnancy tests definitely not pregnant. Worries a side, take it as soon as possible n you be alright!!!!\"\n",
            "-------------------------------\n",
            "\"I&#039;ve had the Implanon put in 2011 and taken out 2013. Then the Explanon put in 2014 and taken out today 10/19/2016. As far as preventing pregnancy and no period (for me), it&#039;s exceptional. BUT I&#039;ve gained 40 pounds over the course of 2 years and it&#039;s nearly impossible to lose weight while on this birth control. Also, I did get break outs on my face from bad acne from time to time. Now, I&#039;m currently getting ready to try the &quot;mini pill&quot;.\"\n",
            "-------------------------------\n",
            "\"Received 1st of three on 5/5/2014 no side effects, very little pain.\"\n",
            "-------------------------------\n",
            "\"**I got skyla inserted yesterday. I cancelled several appointments and prolonged the procedure because of hearing horror stories. I did not take any pain medicine and I did not get pain medicine injected prior to insertion. I was extremely nervous.\r\r\n",
            "Honestly, it hurt but it wasn&#039;t unbearable. It was a very severe cramping/pinching feeling for about 10 seconds. If you are worried about the extremely painful part- it lasts 10 seconds. That&#039;s it. If you are worried about afterwards, I was sweating and felt dizzy for about 30 minutes after procedure.  I was cramping all day and still am today but I would get these bad cramps the first 2 days of my period anyway. Was it so painful I regret doing it, no! Hopefully no future negative side effects\"\n",
            "-------------------------------\n",
            "\"I&#039;ve been taking Remeron for about five months.  I was prescribed this medicine to help me fall asleep and I&#039;ve found that it does work.  I haven&#039;t had any side effects from it. I also take Effexor XR for depression.\"\n",
            "-------------------------------\n",
            "\"Im on the Evra patch and silly me made the mistake of forgetting it for 1-2 days of the start of my first cycle and i had also forgotten about that the weekend i was with my boyfriend so i was unprotected 27/8 Saturday. Went Doc gave me Elleone on the 29/8 Monday so 2 days after i was with the boyfriend. I was nervous about taking it after reading some reviews. So here is mine. The day i took it i was little moody, very mild tummy upset but noting to really complain about. i had 2 weeks to wait till i got my period which always comes on time it is now the 16/9 and it was only a few hours late but my period came and on the day its meant to! I have cramps but nothing new there! Relax ladies the pill works.\"\n",
            "-------------------------------\n",
            "\"I had paraguard for four years and experienced very bad cramps during ovulation and my period, along with heavy bleeding.  I switched to Mirena after consulting with a new GYN.   The removal of paraguard was painless and took less than a second.  The original insertion of it was extremly painful.  I had it inserted when I was in my late 20s, no children.  I still have no children and found the insertion of the Mirena to be no worse than two bad cramps, each lasting only a second.  I took 800mg of Motrin about an hour prior to the precedure, which may have helped.  I had no cramping or spotting after the procedure and have still have no cramping or spotting.\"\n",
            "-------------------------------\n",
            "\"I&#039;ve been suffering from Anxiety, nervousness and depression for the last 6 years. I&#039;ve taken 150mg Zoloft for 8 weeks and while my depression is OK, my anxiety is still there. I take 125mg Trazadone to help me sleep. I&#039;m tapering down my diazepam (valium) which first helped but  than made me worse.\r\n",
            "\r\n",
            "I just started Gabapentin 3 days ago.The first day I took 100mg and it really relaxed me, even better than any benzo can now. Side effects are blurred vision, dizziness and weakness. Hope these will go away in the next two weeks.\"\n",
            "-------------------------------\n",
            "\"I have had awful foot pain for over 10 years and have tried many medicines.  My Doctor suggested Mobic and it did wonders for my pain. I have been on it 5 days now and can not believe the difference it has made.  I can now walk without shuffling around because of pain. Side effects are mild for now. I have light headache from time to time and ear pressure. Hope that improves. I take 7.5 twice a day since 15 seemed to make side effects worse. A nice surprise everytime I get up to walk and feel little or no pain.\"\n",
            "-------------------------------\n",
            "\"last 15 tears of taking Klonopin have been a total improvement of my quality of life. and an improvement in anxiety to the point where I am like the friendliest guy in town so to speak. where as before taking Klonopin I had severe social  phobia . as a result the stress was definetly related to making me get cancer at 40 years of age. it works. buspar and all the other more popular anti anxiety meds did not work and I don&#039;t want to stop taking Klonopin.     William P.\"\n",
            "-------------------------------\n",
            "\"This medication is incredible.  The ONLY side effect I experienced was mild nausea, which after the first week seemed to subside quite a bit.\r\n",
            "\r\n",
            "I am currently on 200 mg/day--(two 100mg tabs)\r\n",
            "Starting out my acne wasn&#039;t quite so severe, but I did frequently get cystic acne which was painful (which was why MA Health agreed to cover the cost after my MD petitioned them.)  I&#039;ve been on it for about a week and a half, maybe two weeks, and I&#039;ve already seen the difference! \r\n",
            "\r\n",
            "This is my second time being on this medication--I was prescribed it in 2014, I don&#039;t know what the dosage was at the time, but after about 2 or 3 months my skin became totally clear the first time around, and before I started that time, my skin was in much worse condition.\"\n",
            "-------------------------------\n",
            "\"Honestly- I tried seriously every single OTC and prescription acne product there was to try. Both before and after I had a baby. I&rsquo;m 24 and this is THE wonder drug. I&rsquo;ve been taking spirinolactone for 7 months and I&rsquo;m almost positive I never want to stop. I can tell you I had the worst cystic acne there ever was, every other day I had a new one and this went on for months where I wouldn&rsquo;t even leave the house unless it was to get it injected- I&rsquo;m also an avid picker and had terribly low self esteem . Anywho- if you&rsquo;re able to take this medication&mdash; I would try because it might be the wonder drug for you too.\"\n",
            "-------------------------------\n",
            "\"This is the first medication prescribed for me of all the SSRIs, antipsychotics, AEDs and other designer drugs that did not cause significant adverse reactions or just plain not work.  I have a sleep problem complicated by PTSD which causes major adrenaline reactions during the night, the time which my body was programmed in childhood to believe dangerous.  Butabarbitol helps me sleep peacefully at night with no hangover in the morning.\"\n",
            "-------------------------------\n",
            "\"I&#039;m three days post operation for a hemorrhoidectomy and a fissure repair. The pain is horrible, but the Toradol is working well. It works much better than the narcotics prescribed (Tramadol).\"\n",
            "-------------------------------\n",
            "\"I started Victoza 3 days ago.  My blood sugar readings were around 200 when checked each morning.  No change really until the second day at 136.  It&#039;s never been that low (morning reading).  I also in three days have lost 4 pounds.  I have been very sick to my stomach, and today had a very bad headache.  I hope this passes because I think if I can continue taking Victoza that I would be able to lose weight that simply won&#039;t come off any other way.\"\n",
            "-------------------------------\n",
            "\"I&#039;ve been diagnosed with bipolar and severe anxiety. I saw a new psychiatrist two years who prescribed Klonopin. Best thing that ever happened to me. I was taking 3mg daily. But I also take Seroquel for troubles sleeping. Together, the psychiatrist and I decided to decrease the Klonopin to 2 mg. Well the anxiety is back after 2 years. And I&#039;m real upset. Going to see my PCP on Tuesday and calling my psych doc as well.\"\n",
            "-------------------------------\n",
            "\"Topamax helps tremendously with mixed bipolar and rapid cycling. However I was an athlete at the time, rode cycling and a psychiatric nurse, I went from 120 to 105.  This was not a bad experience for me. \r\n",
            "\r\n",
            "My manager illegally pulled me in her office and told me, granted she is not even an RN and told me I had anorexia and an eating disorder and illegally\r\n",
            "discriminated against me to stop me from working with eating disordered patients.\r\n",
            "\r\n",
            "My doctor even told her I was normal and healthy, just solid muscle.\r\n",
            "\r\n",
            "PS. Have you ever seen a serious road cyclist have an ounce of fat on them?\r\n",
            "\r\n",
            "\"\n",
            "-------------------------------\n",
            "\"I absolutely freaked out TODAY when I went to get my IUD Because I read every. Single. Review on this website. Girls! Don&#039;t freak ourself out! My pain rating  was in the negatives! And it completely stopped my very heavy period in 12 hours. I know everyone&#039;s story is different but don&#039;t rely on reviews when it comes to your body :)\"\n",
            "-------------------------------\n",
            "\"I have trouble sleeping since my MOM passed away, plus a move too. So this really helps to calm me down, from my grief too, also to get the rest I need.\"\n",
            "-------------------------------\n",
            "\"Started Savella on 5/30/10 2-week titration pack.  First 2 days took it morning and evening, but could not sleep even with Ambien.  Stopped the evening dose and took Ambien only when had trouble falling asleep, and able to sleep again.  Biggest problem was daytime sleepiness - very difficult to deal with.  I am at 50 mg./day, morning only.  It helps with the daytime sleepiness very well, and with some of the aches and pains.  50 mg gives me mild anxiety which is hard to take. Will go back to 25 mg.  If you can&#039;t sleep-don&#039;t take it at night.  Keep your room cool/cold.  \"\n",
            "-------------------------------\n",
            "\"Benign Prostate Hyperplasia for about 5 years. Flomax worked but horrible side effects (muscle aches,\r\n",
            "dizzy, stomach pain, dreams) so switched to Rapaflo about 8 months ago, works very well on small tab of 4 mg, but some side effects, dry sex, lack of interests (which at 65 isn&#039;t that bad) so I quit medicine for 3 weeks but my flow is so\r\n",
            "slow I developed infection, so then I start again for a month or so, but this time I am developing heart pain and stomach churning, gas. etc. with it so don&#039;t know whats\r\n",
            "next. \"\n",
            "-------------------------------\n",
            "\"I have been on a variety of medicines that never seemed to help me with anxiety. I have been taking 2mg of Klonopin 3 times a day for almost a year, and they have calmed me down tremendously. I was always anxious about everything, from bills to jobs to family...you name it. This medicine along with journal writing has also helped manage my anger problems too. I&#039;ve tried to wean myself off of it several times, but I usually end up anxious and frustrated all over again. I just have to accept that Klonopin is now a part of my life for longer than expected. Two thumbs up!\"\n",
            "-------------------------------\n",
            "\"I&#039;ve suffered from reoccurring kidney stones for about five years and i&#039;m only 18. After trying numerous medications to control my pain, i was given Dilauded in my IV and it SAVED ME. Nothing works better for me, and if you find yourself in a situation where you have kidney stones, please talk to your doctor about dilauded. It&#039;ll save you a lot of time!!\"\n",
            "-------------------------------\n"
          ]
        }
      ]
    },
    {
      "cell_type": "code",
      "source": [
        "sentence_pipeline(test, LB_neg_pos_error_index_str)"
      ],
      "metadata": {
        "colab": {
          "base_uri": "https://localhost:8080/"
        },
        "id": "CjDSgJDcDVaE",
        "outputId": "17bc361b-955a-4aa7-913e-46e8d0d02eb6"
      },
      "execution_count": null,
      "outputs": [
        {
          "output_type": "stream",
          "name": "stdout",
          "text": [
            "5 ' 7 quot weigh 109lbs three kids 8lbs anorexic everything maintain healthy weight started taking periactin cyproheptadine gaining 1-2 lbs day problem 3/4 day sleeping dry mouth bad mood swings due heavy work schedule hard continue taking pills stopped lost weight quick gained 4 days ago started taking gained 5 lbs time reach target weight 130 set aside meal plan maintain weight addition taking 2 pills week would highly recommend medication anyone suffers anorexia appetite\n",
            "-------------------------------\n",
            "lo loestrin fe get month health insurance mishap got sprintec much cheaper much better history depression caused problem fact ' even headache stomach pain highly recommend\n",
            "-------------------------------\n",
            "' doxy four days nausea horrible today leave final exam afraid ' vomit ' way since first time took tried eating since ' bottle instructs nausea ' bad eat noticed improvements though ' bad respiratory infection months ' know finally got diagnosed got ' feel like death horrible headache ' realize could side effect makes sense basically ' good cure respiratory infection side effects bad side note ' cool see mild acne\n",
            "-------------------------------\n",
            "finished second course two weeks on/two off/two pray works side effects experienced moderate severe flu like headache upset stomach nose looks like burned entire end/tip sore crusting oozing- ugly price pay medicine hopefully work ' sucked mohs march 15 new treatment spot adjacent old scar praying works ...\n",
            "-------------------------------\n",
            "drinking equivalent bottle gin day last 4 weeks ' alcoholic managed quit 4 years ago serious relapse tried tapering booze felt like losing mind stuff wanted go cold turkey withdrawals utterly horrific - ' never felt dreadful depression indescribable worried actually going clinically insane got appointment doctor gave librium prescription first morning taking pills could cried relief much better librium made feel - almost felt ' normal ' even though starting cold turkey/withdrawal process shakes anxiety dread\n",
            "-------------------------------\n",
            "put celexa 6 months ago anxiety attacks little bit depression loss grandpa cried lot ' even go wal-mart alone would attack leave store empty handed medicine done amazing things calm better mood overall ' worry much little things control life small side effects nothing horrible leaving house would panic attacks dry mouth first couple weeks overall feel amazing recommend highly everyone remember people ' bodies different might one\n",
            "-------------------------------\n",
            "severe insomnia point getting 1-2 hours sleep night started hallucinate days prescribed ambien works fast within 10 minutes kicking fall asleep sleep 4-5 hours wake refreshed ' get full 7-8 hours sure ' tried ambien cr took longer fall asleep still got around 4-5 hours sleep cr version still use ambien ' better lunesta gave nasty taste mouth ' even make tired overall recommend ambien\n",
            "-------------------------------\n",
            "sex boyfriend two times n came fully 6 hours physical contact went walgreens buy pill side effects kinda irritating makes demon week right spot week period came ' month later period came took three pregnancy tests definitely pregnant worries side take soon possible n alright\n",
            "-------------------------------\n",
            "' implanon put 2011 taken 2013 explanon put 2014 taken today 10/19/2016 far preventing pregnancy period ' exceptional ' gained 40 pounds course 2 years ' nearly impossible lose weight birth control also get break outs face bad acne time time ' currently getting ready try quot mini pill quot\n",
            "-------------------------------\n",
            "received 1st three 5/5/2014 side effects little pain\n",
            "-------------------------------\n",
            "* * got skyla inserted yesterday cancelled several appointments prolonged procedure hearing horror stories take pain medicine get pain medicine injected prior insertion extremely nervous honestly hurt ' unbearable severe cramping/pinching feeling 10 seconds worried extremely painful part- lasts 10 seconds ' worried afterwards sweating felt dizzy 30 minutes procedure cramping day still today would get bad cramps first 2 days period anyway painful regret hopefully future negative side effects\n",
            "-------------------------------\n",
            "' taking remeron five months prescribed medicine help fall asleep ' found work ' side effects also take effexor xr depression\n",
            "-------------------------------\n",
            "im evra patch silly made mistake forgetting 1-2 days start first cycle also forgotten weekend boyfriend unprotected 27/8 saturday went doc gave elleone 29/8 monday 2 days boyfriend nervous taking reading reviews mine day took little moody mild tummy upset noting really complain 2 weeks wait till got period always comes time 16/9 hours late period came day meant cramps nothing new relax ladies pill works\n",
            "-------------------------------\n",
            "paraguard four years experienced bad cramps ovulation period along heavy bleeding switched mirena consulting new gyn removal paraguard painless took less second original insertion extremly painful inserted late 20s children still children found insertion mirena worse two bad cramps lasting second took 800mg motrin hour prior precedure may helped cramping spotting procedure still cramping spotting\n",
            "-------------------------------\n",
            "' suffering anxiety nervousness depression last 6 years ' taken 150mg zoloft 8 weeks depression ok anxiety still take 125mg trazadone help sleep ' tapering diazepam valium first helped made worse started gabapentin 3 days ago.the first day took 100mg really relaxed even better benzo side effects blurred vision dizziness weakness hope go away next two weeks\n",
            "-------------------------------\n",
            "awful foot pain 10 years tried many medicines doctor suggested mobic wonders pain 5 days believe difference made walk without shuffling around pain side effects mild light headache time time ear pressure hope improves take 7.5 twice day since 15 seemed make side effects worse nice surprise everytime get walk feel little pain\n",
            "-------------------------------\n",
            "last 15 tears taking klonopin total improvement quality life improvement anxiety point like friendliest guy town speak taking klonopin severe social phobia result stress definetly related making get cancer 40 years age works buspar popular anti anxiety meds work ' want stop taking klonopin william p\n",
            "-------------------------------\n",
            "medication incredible side effect experienced mild nausea first week seemed subside quite bit currently 200 mg/day -- two 100mg tabs starting acne ' quite severe frequently get cystic acne painful health agreed cover cost md petitioned ' week half maybe two weeks ' already seen difference second time medication -- prescribed 2014 ' know dosage time 2 3 months skin became totally clear first time around started time skin much worse condition\n",
            "-------------------------------\n",
            "honestly- tried seriously every single otc prescription acne product try baby rsquo 24 wonder drug rsquo taking spirinolactone 7 months rsquo almost positive never want stop tell worst cystic acne ever every day new one went months rsquo even leave house unless get injected- rsquo also avid picker terribly low self esteem anywho- rsquo able take medication mdash would try might wonder drug\n",
            "-------------------------------\n",
            "first medication prescribed ssris antipsychotics aeds designer drugs cause significant adverse reactions plain work sleep problem complicated ptsd causes major adrenaline reactions night time body programmed childhood believe dangerous butabarbitol helps sleep peacefully night hangover morning\n",
            "-------------------------------\n",
            "' three days post operation hemorrhoidectomy fissure repair pain horrible toradol working well works much better narcotics prescribed tramadol\n",
            "-------------------------------\n",
            "started victoza 3 days ago blood sugar readings around 200 checked morning change really second day 136 ' never low morning reading also three days lost 4 pounds sick stomach today bad headache hope passes think continue taking victoza would able lose weight simply ' come way\n",
            "-------------------------------\n",
            "' diagnosed bipolar severe anxiety saw new psychiatrist two years prescribed klonopin best thing ever happened taking 3mg daily also take seroquel troubles sleeping together psychiatrist decided decrease klonopin 2 mg. well anxiety back 2 years ' real upset going see pcp tuesday calling psych doc well\n",
            "-------------------------------\n",
            "topamax helps tremendously mixed bipolar rapid cycling however athlete time rode cycling psychiatric nurse went 120 105 bad experience manager illegally pulled office told granted even rn told anorexia eating disorder illegally discriminated stop working eating disordered patients doctor even told normal healthy solid muscle ps ever seen serious road cyclist ounce fat\n",
            "-------------------------------\n",
            "absolutely freaked today went get iud read every single review website girls ' freak ourself pain rating negatives completely stopped heavy period 12 hours know everyone ' story different ' rely reviews comes body\n",
            "-------------------------------\n",
            "trouble sleeping since mom passed away plus move really helps calm grief also get rest need\n",
            "-------------------------------\n",
            "started savella 5/30/10 2-week titration pack first 2 days took morning evening could sleep even ambien stopped evening dose took ambien trouble falling asleep able sleep biggest problem daytime sleepiness - difficult deal 50 mg./day morning helps daytime sleepiness well aches pains 50 mg gives mild anxiety hard take go back 25 mg ' sleep-don ' take night keep room cool/cold.\n",
            "-------------------------------\n",
            "benign prostate hyperplasia 5 years flomax worked horrible side effects muscle aches dizzy stomach pain dreams switched rapaflo 8 months ago works well small tab 4 mg side effects dry sex lack interests 65 ' bad quit medicine 3 weeks flow slow developed infection start month time developing heart pain stomach churning gas etc ' know whats next.\n",
            "-------------------------------\n",
            "variety medicines never seemed help anxiety taking 2mg klonopin 3 times day almost year calmed tremendously always anxious everything bills jobs family ... name medicine along journal writing also helped manage anger problems ' tried wean several times usually end anxious frustrated accept klonopin part life longer expected two thumbs\n",
            "-------------------------------\n",
            "' suffered reoccurring kidney stones five years ' 18 trying numerous medications control pain given dilauded iv saved nothing works better find situation kidney stones please talk doctor dilauded ' save lot time\n",
            "-------------------------------\n"
          ]
        }
      ]
    },
    {
      "cell_type": "code",
      "source": [
        "with open('/content/drive/MyDrive/Bachelor Scriptie KI/Programming/Notebooks/Error Indexes/Medical/updated_SVM_medical_pos_neg.txt', 'r') as readfile:\n",
        "    SVM_pos_neg_error_index_str = readfile.readlines()"
      ],
      "metadata": {
        "id": "pWE8uSb8DbM7"
      },
      "execution_count": null,
      "outputs": []
    },
    {
      "cell_type": "code",
      "source": [
        "len(SVM_pos_neg_error_index_str)"
      ],
      "metadata": {
        "colab": {
          "base_uri": "https://localhost:8080/"
        },
        "id": "JUJRQ_wWFYhb",
        "outputId": "dc0cd0ca-5442-4c2a-d0ed-25887400feac"
      },
      "execution_count": null,
      "outputs": [
        {
          "output_type": "execute_result",
          "data": {
            "text/plain": [
              "1774"
            ]
          },
          "metadata": {},
          "execution_count": 60
        }
      ]
    },
    {
      "cell_type": "code",
      "source": [
        "sentence_pipeline(test, SVM_pos_neg_error_index_str)"
      ],
      "metadata": {
        "colab": {
          "base_uri": "https://localhost:8080/"
        },
        "id": "bZKS88HDFZ6E",
        "outputId": "c53eff4c-4b65-43b5-8880-0097dbc78742"
      },
      "execution_count": null,
      "outputs": [
        {
          "output_type": "stream",
          "name": "stdout",
          "text": [
            "age 23 1st mirena age 18 due heavy painful periods first 3 years period stopped ' remember month days spotting last 2 year mirena insertion period returned normal compared periods insertion new mirena inserted 12/14/16 ' 5 months heavy periods every month painful cramps empty menstrual cup every 3 hours nomal periods go 12hrs without emptying ' going wait another month see happens might switch pill continues anyone ' period stopped 6 months year\n",
            "-------------------------------\n",
            "clue effective took first time dying never felt itch like life pain ever hands would rather live yeast infection every day forever take stuff ' speak effectiveness ' really care\n",
            "-------------------------------\n",
            "work well\n",
            "-------------------------------\n",
            "took wellbutrin couple months eventually going 450 mg day think help little bit whole lot experience would maybe good mild depression ' think strong enough ' depressed long time period ' remember side effects though except maybe little loss appetite\n",
            "-------------------------------\n",
            "procedure noon tomorrow 1st bottle 17:30 far bms 19:42 20:22 20:30 20:34 20:44 ca 1 cup ea explosive peeing stuff smells like urinal cakes tastes like hairspray long aftertaste using rinse-free body wash diluted warm water clean bm applying quot un-petroleum multi-purpose jelly quot bm parabens/no petroleum assure razor-blade wiping pain one vomit coming close ' chill -intensifies taste amp body feels chilly/shakey amp increases gag reflex rinse container good h2o-only part ' amp urinal cake smell/taste penetrated container even w/ h2o next time ' unflavored mgso4 epsom salts never\n",
            "-------------------------------\n",
            "quit ritalin despite starting small dose gave tremors quot wired quot alert feeling problems diminish within 2 weeks could stand\n",
            "-------------------------------\n",
            "started help cramping get period every 3 months control issues normally get 1 heavy day period lasts 4 days yeah well heavy period 4 days n non stop clotting ' take\n",
            "-------------------------------\n",
            "im 36yr old woman polymyostsis struggle last 7 years ups downs relapsed often acthar treatment seems work guess gets system side effects kind unbearable live everyday grateful hoping go remission doctor says acthar treatment help get cpk levels control\n",
            "-------------------------------\n",
            "asacol impact crohn ' flare-ups biologic medicines came relief suggest starting mild drug like realize many options available today help\n",
            "-------------------------------\n",
            "' 5 weeks since last shot series 4 orthovisc injections torn meniscus right knee super swollen pain twice bad injections drug get sleep awoken night/morning excruciating pain ' know heck went wrong ' 47 bone bone arthritis etc surgery repair meniscus torn quot fix quot doctor ' say total knee replacement trying push back till ' older ' problems knee since 2008 ' take anymore supposed keep waiting something happen miraculously ice daily exercise stretching hot tub etc advice would great\n",
            "-------------------------------\n",
            "nuvaring year september 15 2016 admitted hospital blood clot leg smoke anything injure clot appear went lung well doctor immediately told discontinue nuvaring longer take anything hormones fast forward beginning november discovered lump breast ultrasounds mammograms surgical biopsy december 8 2016 34 years old diagnosed invasive lobular carcinoma type breast cancer saw primary doctor today 01/18/2017 believes blood clots cancer related nuvaring breast cancer run family\n",
            "-------------------------------\n",
            "' tried multiple birth control pills thought found saving grace first started taking pill skin clearer boobs grew bonus taking pill sex drive almost non-existent problem placebo week change hormones throughout month dropping period given crazy mood swings ' think ' ever felt depressed hopeless unhappy life things made previously happy usually pmsing lasts day two bc ' consistently mental health worth side effects pill struggle mood swings especially birth control pills would recommend\n",
            "-------------------------------\n",
            "ativan since january 2011 started 0.5mg went 1mg felt better used anxiety also sleep hard time sleeping night feel stop taking medicines anxiety attack months take medicines sleep night tried stop taking ativan withdrawals bad start taking going see doctor help come them.\n",
            "-------------------------------\n",
            "taken pills 12 days without result lots hope ..... slowly fading away $ 208.00 better .....\n",
            "-------------------------------\n",
            "strattera 6 years take one 18mg day take ' feel like feel depressed feel tried time ' like far ' found anything else work\n",
            "-------------------------------\n",
            "started taking pill yet first week already ' covered acne never using iud decided ' want iud anymore five years poked partner something ' take anyways yasmin caused crazy acne like teenager status ' 25 caused breast tenderness used feel tenderness read reviews gaining cup size .. hope ' happen already dd ' s. ' see next months play far impressed\n",
            "-------------------------------\n",
            "5 wks weight lost flit back forth one lb side effects faded three wks terrible headache first workouts started wk\n",
            "-------------------------------\n",
            "found xanax indeed work ' quick relieving take 20-30 anxious event help downside tolerance generally develops quickly case already one week\n",
            "-------------------------------\n",
            "hate ' put 50lbs even thou ' staving eating carbs sugar everything eat fat free ' detoxing ' tired reason get get dose person gave clue ' finally requested new case worker also ' pain ever everyone thats going long time bent wheelchairs teeth bones starting crack walk ' aged 5 years looks wise ' wait get\n",
            "-------------------------------\n",
            "experience abilify destructive 25 mdd since age 10 4 years ago took abilify 3-4months time experienced paranoia delusions worsened depression extreme weight gain ' never paranoia delusions brought normal baseline 5/10 1/10 still ' changed also experienced extreme compulsive desire eat go away stopped med well total thyroid shutdown atrophy affirmed endocrinologist 4 months gained 80 lbs 60 % original body weight multiple medications rest life treat damage abilify\n",
            "-------------------------------\n",
            "medicine gave kidney stone ' run family never one kidney stone got stuck several painful weeks life thus far surgery get removed would gladly suffer migraines ever experience kidney stone\n",
            "-------------------------------\n",
            "got mirena inserted 2.5 years ago insertion slightly painful ' good pain ' till left doctors felt sharp cramps lasted day first loved mirena honestly ' take anyone ' experience mirena less year seriously ' first year thought amazing worry pill everyday bleeding pregnancy amazing 9 months started get severe hormonal chin acne mood swings hair loss dryness got first bv infections worst yeast infections sex drive non existing anymore birth control within biggest factor crazy ' made\n",
            "-------------------------------\n",
            "dangerous medication prescribed headaches many side effects problems already told doctor wife many occasions doctor said keep taking good ways bad ' take try new.medication see tried 21 days hallucination ' awake dreaming many bad things know shot chin survived coming coma many surgeries study medicine ' 46 testing drug 31 % males 41 amp 49 committed suicide ' one three males within first 30 days failed docs\n",
            "-------------------------------\n",
            "nexplanon since may 2014 august 2014 bleeding every since gained 20 pounds since also acne ' getting thing taken soon possible wish birth control method ' like idea take pill every single day ' willing ready go back pill good luck decide take method\n",
            "-------------------------------\n",
            "since ' inserted ' bleeding/spotting 13 months first put year half ago period 6 months straight effective comes avoiding pregnancy\n",
            "-------------------------------\n",
            "' waste money product take away pain got soon felt cold sore coming applied religiously nothing 4th day outbreak someone told try quot new skin quot type liquid bandaid got wallmart 4 $ less 12 hours putting new skin outbreak drastically gone size nasty scabs gone looked like small burn\n",
            "-------------------------------\n",
            "started saxenda march 5th 2017 ' week yet let tell side effects awful ' woke twice vomiting eat every bite incredibly slow make sure ' get sick bite nausea vomiting sweating definitely give go anyway take nurses word side effects pass ' able take weight yet ' sure much ' lost good luck people ' pretty rough beginning way ' taking autoimmune disease patient thyroid removed\n",
            "-------------------------------\n",
            "good depression anxiety helps sleep\n",
            "-------------------------------\n",
            "medication 4 months 3 broken areas lumbar spine well 5 herniated discs works okay me.\n",
            "-------------------------------\n",
            "taken prozac 20 40mg quite years ago really positive outcome point stopped working went welbutrin recently started get panic doctor thought adding prozac daily regimen would help worked well past side effects difficult 3 weeks crying unable eat anxiety every minute lost 10 pounds good side effect subside seemed working days anxiety tremors daily unfortunately ' working time around switching would definitely recommend people since work wonderfully panic gad\n",
            "-------------------------------\n"
          ]
        }
      ]
    },
    {
      "cell_type": "code",
      "source": [
        "sentence_pipeline(raw_testset, SVM_pos_neg_error_index_str)"
      ],
      "metadata": {
        "colab": {
          "base_uri": "https://localhost:8080/"
        },
        "id": "SnKv_Z-zFnkT",
        "outputId": "062464b4-5f49-4bbb-e2ed-abe0c557906f"
      },
      "execution_count": null,
      "outputs": [
        {
          "output_type": "stream",
          "name": "stdout",
          "text": [
            "\"Age 23. I had my 1st Mirena at age 18 due to very heavy and painful periods. The first 3 years my period had stopped (can&#039;t remember after what month)  with just a few days of spotting here and there. During the last 2 year of my Mirena insertion, my period returned. They were normal when compared to my periods before the insertion. So I had a new Mirena inserted 12/14/16. It&#039;s been 5 months and  I have had very heavy periods every month with painful cramps. I have to empty my menstrual cup every 3 hours (when nomal periods can go 12hrs without emptying). I&#039;m going to wait another month to see what happens but I might switch to the pill if this continues. Has anyone&#039;s period stopped after 6 months or a year?\"\n",
            "-------------------------------\n",
            "\"No clue how effective it is but I just took it the first time and I am DYING. I have never felt an itch like this before in my life. This is the most pain I have ever been in, hands down. I would rather live with a yeast infection every day forever than take this stuff. Can&#039;t speak to its effectiveness and don&#039;t really care.\"\n",
            "-------------------------------\n",
            "\"Does not work well for me.\"\n",
            "-------------------------------\n",
            "\"I took Wellbutrin for a couple months, eventually going up to 450 mg a day, and I think it did help a little bit but not a whole lot. From my experience, it would maybe be good for mild depression but I don&#039;t think its strong enough if you&#039;ve been depressed for a long time period. I don&#039;t remember any side effects though except maybe a little loss of appetite.\"\n",
            "-------------------------------\n",
            "\"Procedure at noon tomorrow. 1st bottle at 17:30. So far BMs at 19:42, 20:22, 20:30 20:34, 20:44 (ca. 1 cup ea. and not explosive); peeing more. This stuff smells like urinal cakes! Tastes like hairspray with long aftertaste. Using rinse-free body wash diluted in warm water to clean after each BM. Applying &quot;Un-petroleum Multi-purpose Jelly&quot; after each BM (no parabens/no petroleum) to assure no razor-blade wiping pain. I am not one to vomit but coming close. Don&#039;t chill it -intensifies taste &amp; body feels chilly/shakey &amp; increases gag reflex. Rinse container good for the H2O-only part! I didn&#039;t do it &amp; the urinal cake smell/taste penetrated the container even w/ only H2O. Next, time it&#039;s unflavored MgSO4 or Epsom Salts. Never again!\"\n",
            "-------------------------------\n",
            "\"I had to quit Ritalin, despite starting on a very small dose, because it gave me tremors and a &quot;wired&quot; (but not alert) feeling. The problems did not diminish within 2 weeks, and that was all I could stand.\"\n",
            "-------------------------------\n",
            "\"I started this to help with cramping, get my period every 3 months and control other issues. I normally get 1 heavy day and my period lasts for 4 days. Yeah well I have had a heavy period now for 4 days n non stop clotting. Don&#039;t take This!!\"\n",
            "-------------------------------\n",
            "\"Im 36yr old woman who  has polymyostsis it been a struggle for the last 7 years ups and downs. I have relapsed very often. The acthar treatment seems to work I guess once it gets to your system. Side effects are kind of unbearable. I live everyday grateful but hoping it will go into remission. But from what my doctor says the acthar treatment help get my CPK levels under control.\"\n",
            "-------------------------------\n",
            "\"Asacol had no impact on my Crohn&#039;s flare-ups at all. Until the biologic medicines came out, I had no relief at all. I suggest starting with  mild drug like this but to realize that there are so many more options available today if this does not help.\"\n",
            "-------------------------------\n",
            "\"It&#039;s been 5 weeks since the last shot in a series of 4 Orthovisc injections for my torn meniscus. My right knee is now super swollen, and my pain is now Twice as bad as before the injections!! I drug myself up to get to sleep, but I am awoken each night/morning with excruciating pain!! I don&#039;t know what the heck went wrong! I&#039;m only 47, with bone on bone, arthritis, etc. Had surgery to repair meniscus, but it was torn again! Only &quot;fix&quot; the doctor&#039;s say is a total knee replacement. Trying to push it back till I&#039;m older, but I&#039;ve had problems with this Knee since 2008!!! Can&#039;t take it anymore! Am I supposed to keep waiting for something to happen miraculously? I ice it daily, exercise, stretching, hot tub, etc. Any advice would be great!\"\n",
            "-------------------------------\n",
            "\"I was on Nuvaring for just over a year. On September 15, 2016 I was admitted to the hospital for a blood clot in my leg. I do not smoke nor did I do anything to injure myself for this clot to appear. It went to my lung as well. My doctor immediately told me to discontinue the Nuvaring. And I can no longer take anything with hormones in it. Fast forward to the beginning of November, I discovered a lump in my breast. After ultrasounds and mammograms and surgical biopsy, On December 8, 2016, at 34 years old,  I was diagnosed with Invasive Lobular Carcinoma, a type of breast cancer. Just saw my primary doctor today (01/18/2017). She believes the blood clots and the cancer are all related to the Nuvaring. Breast cancer does not run in my family.\"\n",
            "-------------------------------\n",
            "\"I&#039;ve tried multiple birth control pills and I thought I found my saving grace when I first started taking this pill. My skin was clearer and my boobs grew which was a bonus. While taking this pill my sex drive has been almost non-existent. The problem for me has been Placebo week. The change in hormones throughout the month than dropping off to have my period has given me crazy mood swings. I don&#039;t think I&#039;ve ever felt so depressed, hopeless, unhappy with life and with things that made me previously happy. Usually if I am PMSing it lasts for a day or two but with this BC it&#039;s consistently there. My mental health is not worth side effects of this pill. If you struggle with mood swings especially while on birth control pills I would NOT recommend\"\n",
            "-------------------------------\n",
            "\"I have been on Ativan since January 2011, started out with 0.5mg then went to 1mg and have felt better. I used them not only for my anxiety but also to sleep because I have a hard time sleeping at night. I now feel that I can stop taking the medicines for the anxiety, have not had an attack for months but take the medicines to sleep at night. I tried to stop taking Ativan and the withdrawals were so bad I had to start taking them again and now going to see my doctor to help me come off them. \"\n",
            "-------------------------------\n",
            "\"Have taken pills for 12 days without result.  Had lots of hope.....slowly fading away! $208.00 should have do better.....\"\n",
            "-------------------------------\n",
            "\"I have been on Strattera  for 6 years. I take one 18mg a day. When I take it I don&#039;t feel like myself. I feel depressed. I feel tried all the time. So for me I don&#039;t like it but so far they haven&#039;t found anything else that will work  for me.\"\n",
            "-------------------------------\n",
            "\"I just started taking this pill not yet through the first week, and already I&#039;m covered in acne which I never had using the IUD. I decided I didn&#039;t want the IUD anymore after the five years were up because it poked my partner and is something I can&#039;t take out myself. Anyways Yasmin has caused me crazy acne like teenager status (I&#039;m 25) and has caused me breast tenderness when I used to feel no tenderness at all. I read the reviews about gaining a cup size.. I hope that doesn&#039;t happen to me, I already have  DD&#039;s. We&#039;ll see how the next few months play out, but so far NOT IMPRESSED\"\n",
            "-------------------------------\n",
            "\"5 wks in no weight lost. Flit back and forth with one lb. Side effects faded three wks in but not terrible. Headache @first. Workouts started this wk.\"\n",
            "-------------------------------\n",
            "\"I have found that Xanax does indeed work. It&#039;s quick and relieving. Take it about 20-30 before an anxious event and it will help you. The downside is the tolerance that generally develops very quickly, in my case already after one week.\"\n",
            "-------------------------------\n",
            "\"I hate it. I&#039;ve put on 50lbs even thou I&#039;m staving myself and not eating carbs or sugar and everything  I eat is fat free. I&#039;ve been detoxing and I&#039;m so tired the only reason I get up is to get my dose.  The person they gave me has no clue what he is doing. I&#039;ve finally requested a new case worker. Also I&#039;m in more pain than ever. Everyone thats been going there for long time are all bent over, in wheelchairs and no teeth. Now my bones are starting to crack when I walk and I&#039;ve aged 5 years looks wise. Can&#039;t wait to get off this\"\n",
            "-------------------------------\n",
            "\"My experience with Abilify was destructive. I am 25 now, and have had MDD since age 10. 4 Years ago I took Abilify for about 3-4months. During that time I experienced paranoia, delusions, worsened depression, and extreme weight gain. I&#039;d never had paranoia or delusions before and it brought my normal baseline from a 5/10 to a 1/10.  That still hasn&#039;t changed. I also experienced an extreme compulsive desire to eat (did not go away after I stopped the med) as well as total thyroid shutdown (atrophy) as can be affirmed by my endocrinologist. In about 4 months I gained 80 lbs (more than 60% of my original body weight). I will be on multiple medications the rest of my life to treat damage from Abilify.\"\n",
            "-------------------------------\n",
            "\"This medicine gave me a kidney stone. They don&#039;t run in my family and I have never had one before. The kidney stone got stuck and after several of the most painful weeks of my life thus far I had to have surgery to get it removed. I would gladly suffer from migraines then to ever experience a kidney stone.\"\n",
            "-------------------------------\n",
            "\"I got Mirena inserted 2.5 years ago. The insertion was slightly painful but I&#039;m good with pain. It wasn&#039;t till I left my doctors that I felt sharp cramps, which only lasted a day. At first I loved Mirena. I honestly can&#039;t take anyone&#039;s experience with Mirena less than a year seriously. That&#039;s because the first year of me having it I too thought it was amazing. No having to worry about the pill everyday, no bleeding, no pregnancy ! It was amazing, until about 9 months in. I started to get severe hormonal chin acne, mood swings, hair loss and dryness. I got my first BV infections, and the worst yeast infections. My sex drive is non existing anymore so that birth control within it own! Biggest factor was how crazy it&#039;s made me.\"\n",
            "-------------------------------\n",
            "\"A very dangerous medication. I was prescribed it for headaches. Many side effects were problems I was already having. I told my doctor about I, and so did my wife on many occasions. The doctor said keep taking it, the good out ways the bad. And if I don&#039;t take it. They will not try a new.medication,or see me again. So I tried it for 21 days. Hallucination, didn&#039;t no if I was awake or dreaming. Many bad things. Then out of know where. I shot myself under the chin. Some how I survived. After coming out of coma and many surgeries. I did more study on the medicine. I&#039;m 46. In the testing of this drug. 31% of all males between 41 &amp; 49 committed suicide on it. That&#039;s one in three males. All within the first 30 days. So I was failed by my the docs\"\n",
            "-------------------------------\n",
            "\"I have had Nexplanon since May of 2014 it is now August of 2014 and I have been bleeding every since. I have gained 20 pounds since then and I also have acne now. I&#039;m getting this thing taken out as soon as possible. I wish this was the birth control method for me but it&#039;s not. I like the idea of not having to take a pill every single day but after this, I&#039;m willing a and ready to go back to the pill. Good luck if you decide to take this method.\"\n",
            "-------------------------------\n",
            "\"Since I&#039;ve had this inserted, I&#039;ve had bleeding/spotting for 13 months. When I first had it put in a year and a half ago, I had my period for 6 months straight. It is effective when it comes to avoiding pregnancy.\"\n",
            "-------------------------------\n",
            "\"Don&#039;t waste your money on this. All this product does is take away the pain. I got this as soon as i felt a cold sore coming and applied it religiously and it did nothing for me. On the 4th day of my outbreak someone told me to try &quot;New Skin&quot; its a type of liquid bandaid, got it at wallmart for 4$. Less than 12 hours after putting new skin on the outbreak has drastically gone down in size and the nasty scabs were gone. It just looked like a small burn.\"\n",
            "-------------------------------\n",
            "\"So I started saxenda March 5th 2017 and it hasn&#039;t been a week yet but let me tell you these side effects are AWFUL. I&#039;ve woke up twice now vomiting,  I have to eat every bite incredibly slow to make sure I don&#039;t get sick from that bite, nausea, vomiting, sweating. I will definitely give this a go anyway and take my nurses word for it that the side effects will pass. I haven&#039;t been able to take my weight yet so I&#039;m not sure how much I&#039;ve lost. Good luck people it&#039;s pretty rough in the beginning. By the way I&#039;m taking this because I am an autoimmune disease patient and had my thyroid removed\"\n",
            "-------------------------------\n",
            "\"No good for depression or anxiety. For me just helps you to sleep\"\n",
            "-------------------------------\n",
            "\"I have been on this medication for about 4 months. I have 3 broken areas in my lumbar spine, as well as 5 herniated discs. It works okay for me. \"\n",
            "-------------------------------\n",
            "\"I have taken Prozac 20 and 40mg quite a few years ago with really positive outcome, but at a point it stopped working so I went to welbutrin.  recently I started to get panic again and my doctor thought adding Prozac into my daily regimen would help because it worked so well in the past.  The side effects were so difficult for 3 weeks.  crying, unable to eat, anxiety every minute, lost about 10 pounds which was a good side effect :).  but they did subside.  It seemed to be working but now some days I am having anxiety again and tremors daily.  Unfortunately it isn&#039;t working this time around and will be switching off it, but I would definitely recommend it for people since it did once work wonderfully for my panic and GAD.\"\n",
            "-------------------------------\n"
          ]
        }
      ]
    },
    {
      "cell_type": "code",
      "source": [
        "with open('/content/drive/MyDrive/Bachelor Scriptie KI/Programming/Notebooks/Error Indexes/Medical/updated_SVM_medical_neg_pos.txt', 'r') as readfile:\n",
        "    SVM_neg_pos_error_index_str = readfile.readlines()"
      ],
      "metadata": {
        "id": "FcQuXHpMFq_T"
      },
      "execution_count": null,
      "outputs": []
    },
    {
      "cell_type": "code",
      "source": [
        "len(SVM_neg_pos_error_index_str)"
      ],
      "metadata": {
        "colab": {
          "base_uri": "https://localhost:8080/"
        },
        "id": "HgftjjHTIKD2",
        "outputId": "967257d8-af02-40e2-bd9b-862fd2fb475b"
      },
      "execution_count": null,
      "outputs": [
        {
          "output_type": "execute_result",
          "data": {
            "text/plain": [
              "1844"
            ]
          },
          "metadata": {},
          "execution_count": 64
        }
      ]
    },
    {
      "cell_type": "code",
      "source": [
        "sentence_pipeline(test, SVM_neg_pos_error_index_str)"
      ],
      "metadata": {
        "colab": {
          "base_uri": "https://localhost:8080/"
        },
        "id": "uiC457-BILgT",
        "outputId": "bbe25f7c-2e64-4ea1-b391-acc7dc4e2ed6"
      },
      "execution_count": null,
      "outputs": [
        {
          "output_type": "stream",
          "name": "stdout",
          "text": [
            "drinking equivalent bottle gin day last 4 weeks ' alcoholic managed quit 4 years ago serious relapse tried tapering booze felt like losing mind stuff wanted go cold turkey withdrawals utterly horrific - ' never felt dreadful depression indescribable worried actually going clinically insane got appointment doctor gave librium prescription first morning taking pills could cried relief much better librium made feel - almost felt ' normal ' even though starting cold turkey/withdrawal process shakes anxiety dread\n",
            "-------------------------------\n",
            "honestly- tried seriously every single otc prescription acne product try baby rsquo 24 wonder drug rsquo taking spirinolactone 7 months rsquo almost positive never want stop tell worst cystic acne ever every day new one went months rsquo even leave house unless get injected- rsquo also avid picker terribly low self esteem anywho- rsquo able take medication mdash would try might wonder drug\n",
            "-------------------------------\n",
            "got switched gildess started shipping ever since ' went period 3 days hardly one spot little month ' also gained alot weight ' positive due pill noticed low sex drove figured happened getting married lol\n",
            "-------------------------------\n",
            "' end fourth day taking medication twice day 10 days ' never sick antibiotic believe medication works symptoms seem clearing however ' verge throwing constantly body aches fever pretty much flu like symptoms wait\n",
            "-------------------------------\n",
            "earlier year rheumatologist patient study asked included nothing else tried made difference symptoms .. usual pain fatigue memory probs confusion depression sleeplessness able take savella five days nausea asked continue said stop drug immediately side effects experienced loss appetite tingling/twitching upper lip ... things could live next day horrid pain may pain since symptoms nothing fingers crossed\n",
            "-------------------------------\n",
            "' using nuvaring 3 months previously tried depo shot ' like caused uncomfortable vaginal dryness sex switched ring significant really liked anything ring making significantly lubricated without birth control first side effect noticed liking lot however recently realized skin looking worse ever ' breakouts week face came gradually ' even realize must ring ' sad really like ring besides breakouts\n",
            "-------------------------------\n",
            "wisdom tooth removed prescribed 400mg times 3 times daily warned alchohol good run wine extraction started next morning.i felt bit nauseous 1st worse second might 3 bottles wine.hopefully trick.i think ever get prescribed ' go without alchohol beforehand\n",
            "-------------------------------\n",
            "son done complete turn around since began taking vyvanse\n",
            "-------------------------------\n",
            "46 year old male overly dramatic ready commit suicide skin bad hands looked like fire victim elbows legs burned bled constantly scalp would flake drop eyes clothes constant pain relationships non existent flaky skin would drift whatever weeks away leave work go disability would end line depression set badly wanted end found new dermatologist everything changed first shot stelara made difference nine months later 90 % clear trouble spots hands clear life changer\n",
            "-------------------------------\n",
            "took paxil 5 years severe panic attacks anxiety got point could barely leave house without anxiety 20 mg day worked wonders felt quot normal quot first time years however ... gained 50 lbs decided get weaned slowly still withdrawal symptoms brain zaps severe headaches dizzy restless faint weak list goes 5 months still symptoms.\n",
            "-------------------------------\n",
            "periodically flagyl bc crohns rarely drink however holidays couple years ago toasted celebration half glass champagne 3 hours later burning amp felt like chest abt explode 1hour vomiting began puked guts 15 hours go er dehydration miserable another day would recommend alcohol even tiny amounts drug ' ruin next day two\n",
            "-------------------------------\n",
            "withdrawal one half days started shaking feeling anxious already several seizures due alcohol went gp prescribed librium symptoms almost stopped completely 1 day symptoms ' try stop ' dangerous could cost life\n",
            "-------------------------------\n",
            "major flare back april almost lead emergency colonectomy hospitalized 19 days straight 2 different hospitals lost half bodies blood 50 lbs 6 months time 1st doctor put many wrong medications disease severe starting lialda uceris remicade started work week prednisone horrible 2nd hospital another doctor prescribe simponi took working sure went 20 times day red 1 - 3 times day clear water\n",
            "-------------------------------\n",
            "second time trying chantix first time help stop smoking six months made crazy time doc recommended taking half dose far four weeks good\n",
            "-------------------------------\n",
            "unemployed three years things gone bad worse found losing control temper crying reason someone said something negative ' sleep two hours time sometimes would stay crying add problems back pain getting worse doctor diagnose depression gave zoloft started 25mg four days 50mg week crying unexpectedly feel calmer quite actually slept 5 hours straight side effects\n",
            "-------------------------------\n",
            "7 years ago diagnosed leukaemia drifted state depression felt really depressed felt life drifting away visited doctor prescribed 5 mg escitalopram initially ' make difference still felt really depressed return doctor upped medication 10 mg 1week never looked back feel like person diagnosed leukaemia hope help good luck anyone suffering terrible illness please keep chin xxxxxxx\n",
            "-------------------------------\n",
            "right surgery fever confusion blood pressure rate breathing went low pee ' several hours oxygen level 60 sleepy given 60mg lasix even 15 minutes later non stop peeing blood pressure rate breathing picked quite lot ' even imagine pee kept going girls using bedpans surgery necessary doctor kept oxygen level 8 rest night believe medicine saved life even though threw\n",
            "-------------------------------\n",
            "bleeding heavy could soak super plus tampon huge pregnancy pad within minutes passing clots big rsquo fit shower drain doctor put 40mg megestrol 1x day 3 months ago far 2 days row light spotting love stuff rsquo actually taking instead getting full hysterectomy concern laparoscopic gallbladder surgery week ago rsquo pretty intense uterine pain heavy bleeding blood clots since stopped taking megestrol days thinking nature would run rsquo course started taking uterine pain started back hope surgery rsquo wreck megestrol\n",
            "-------------------------------\n",
            "' handle taking pill everyday could anything inserted inside nexplanon 5 months bled first month doctor gave pills stopped ' stop period 2 months ' come back 2 weeks go away one big cramp week started love ' pregnant works ' afraid might gain wait ' much yet ' stay active far good\n",
            "-------------------------------\n",
            "got home taken 4 loss appetite headache looked papers pharmacy seen said sulphamethazole called doctor panic since listed allergies ' allergic reaction dad moms side finished antibiotic fine notice monday last dose feeling really queezy headache hives also weird things felt sick ' hungry plus gave little anxiety go back days make sure cleared took five days twice day however feel tons better\n",
            "-------------------------------\n",
            "cut story short got sex husband fertile day 14th day fertile period worried might get pregnant took pill 14 hrs later feel nauseated tender breast severe headache luckily week period\n",
            "-------------------------------\n",
            "absolutely hate thing got implanted end december thinking would great alternative pill first month january prevent pregnancy ' period everyday since january 28 ' also experienced severe depression mood swings getting thing asap feel like mood changes downward spiral\n",
            "-------------------------------\n",
            "combined pills made crazy pill actually ' sure ' gained like 20 pounds months taking cramps usual abnormal bleeding got little bit acne usual pill trick\n",
            "-------------------------------\n",
            "recurrence her2 cancer hip hand problems horrible insomnia memory issued help hold cancer back\n",
            "-------------------------------\n",
            "product unreal always sweating reason work arms wet day undershirts ruined got worse felt like someone looking got emberassed forehead would sweat ... seriously product amazing works like charm\n",
            "-------------------------------\n",
            "getting two hours sleep constantly woken severe palpitations sweats within week taking angeliq getting full night ' sleep sweats fantastic\n",
            "-------------------------------\n",
            "lost total 100lb 1 year 50 pounds go\n",
            "-------------------------------\n",
            "got yeast infection going birth control hormones getting messed mild yeast infections felt one coming three days ago though never went get diagnosed doctor tried get applying anti itch creams taking homeopathic supplements itching/burning got worse morning ' even leave apartment work swollen itchy bought product right bat super itchy burned started reading reviews thought quot oh done quot laying bed 2 hours stopped hurting feel itch pain also icing let ' hope continues work\n",
            "-------------------------------\n",
            "effective heartburn difficulty swallowing symptoms therapy\n",
            "-------------------------------\n",
            "helped slow much ignoring pain didnt care anyone anything made constipated stopped taking week ago dont feel anything bad feel much better\n",
            "-------------------------------\n"
          ]
        }
      ]
    },
    {
      "cell_type": "code",
      "source": [
        "sentence_pipeline(raw_testset, SVM_neg_pos_error_index_str)"
      ],
      "metadata": {
        "colab": {
          "base_uri": "https://localhost:8080/"
        },
        "id": "juZoLFX_IOoD",
        "outputId": "d9e7fd98-625b-4bcd-8c2a-770c2d504157"
      },
      "execution_count": null,
      "outputs": [
        {
          "output_type": "stream",
          "name": "stdout",
          "text": [
            "\"I had been drinking the equivalent of a bottle of gin a day for the last 4 weeks. I&#039;m an alcoholic who had managed to quit 4 years ago but had a serious relapse.\r\n",
            "\r\n",
            "I tried tapering down the booze, but I felt like I was losing my mind with the stuff. I wanted to go cold turkey but the withdrawals were utterly horrific - I&#039;ve never felt so dreadful, the depression was indescribable, I was worried I was actually going clinically insane.\r\n",
            "\r\n",
            "I got an appointment with my doctor and he gave me a Librium prescription. On the first morning of taking the pills, I could have cried with relief at how much better the Librium made me feel - I almost felt &#039;normal&#039; even though I was starting the cold turkey/withdrawal process. No shakes, no anxiety, no dread.\"\n",
            "-------------------------------\n",
            "\"Honestly- I tried seriously every single OTC and prescription acne product there was to try. Both before and after I had a baby. I&rsquo;m 24 and this is THE wonder drug. I&rsquo;ve been taking spirinolactone for 7 months and I&rsquo;m almost positive I never want to stop. I can tell you I had the worst cystic acne there ever was, every other day I had a new one and this went on for months where I wouldn&rsquo;t even leave the house unless it was to get it injected- I&rsquo;m also an avid picker and had terribly low self esteem . Anywho- if you&rsquo;re able to take this medication&mdash; I would try because it might be the wonder drug for you too.\"\n",
            "-------------------------------\n",
            "\"I got switched to Gildess when they started shipping it to me. Ever since I&#039;ve went from having a period for 3 days to hardly having one at all. I will spot a little once a month. I&#039;ve also gained alot of weight. But I&#039;m not positive it was all due to the pill or not. I have noticed low sex drove but I figured that just happened after getting married. Lol.\"\n",
            "-------------------------------\n",
            "\"I&#039;m at the end of my fourth day, taking the medication twice a day for 10 days. I&#039;ve never been more sick from an antibiotic. I do believe this medication works. Symptoms seem to be clearing up. However, I&#039;m on the verge of throwing up constantly. Body aches. Fever. Pretty much flu like symptoms. I can NOT wait until this is over.\"\n",
            "-------------------------------\n",
            "\"Earlier this year, my rheumatologist was doing a patient study and I asked to be included.  Nothing else we had tried had made any difference in my symptoms..which were the usual: pain, fatigue, memory probs, confusion and depression with sleeplessness.  I was only able to take Savella for five days because of nausea.  I asked to continue but he said to stop the drug IMMEDIATELY. (The only other side effects I experienced were loss of appetite and a tingling/twitching of my upper lip...things I could live with.)  The next day, I had horrid pain.  That was in May and I have had NO pain since, nor have I had ANY other symptoms.  NOTHING! Fingers crossed!!!\"\n",
            "-------------------------------\n",
            "\"I&#039;ve been using nuvaring for 3 months now. Previously I had tried the depo shot which I didn&#039;t like because it caused very uncomfortable vaginal dryness for me during sex. When I switched to the ring, me and my significant other really liked it! If anything the ring has been making me significantly more lubricated than without any birth control at all. At first that was the only side effect I had noticed and I was liking it a lot! However just very recently I realized that my skin has been looking worse than it ever has. I&#039;ve been having more and more breakouts each week all over my face and they came on so gradually that I didn&#039;t even realize it must be from the ring. I&#039;m very sad because I really did like the ring besides the breakouts!\"\n",
            "-------------------------------\n",
            "\"Had a wisdom tooth removed and was prescribed these(400mg&times;3 times daily)I was warned no alchohol so I had a good run at the wine after the extraction and started these the next morning.I felt a bit nauseous after the 1st and worse after the second but it might be because of the 3 bottles of wine.Hopefully they will do the trick.I think if I ever get them prescribed again I&#039;ll go without the alchohol beforehand\"\n",
            "-------------------------------\n",
            "\"My son has done a complete turn around since he has began taking Vyvanse.\"\n",
            "-------------------------------\n",
            "\"46 year old male.  Not to be overly dramatic, but I was ready to commit suicide my skin was so bad.  My hands looked like I was a fire victim.  My elbows and legs burned and bled constantly.  My scalp would flake and drop into my eyes and all over my clothes.  I was in constant pain, and my relationships were non existent.  Flaky skin would drift off of me whatever I did.  I was weeks away from having to leave work and go on disability, which would have been the end of the line for me.  Depression set in so badly I just wanted to end it all.  Then I found a new dermatologist.  Everything changed.  My first shot of Stelara made a difference.  Nine months later, 90% clear.  A few trouble spots, but my hands are CLEAR!  What a life changer!\"\n",
            "-------------------------------\n",
            "\"I took Paxil for 5 years for severe panic attacks and anxiety. I got to the point where I could barely leave the house without anxiety. I was on 20 mg once a day and it worked wonders for me. I felt &quot;normal&quot; for the first time in years. HOWEVER... I gained 50 lbs. I decided to get off and weaned myself very slowly but still had withdrawal symptoms: brain zaps, severe headaches, dizzy, restless, faint, weak and the list goes on. I have been off for 5 months now and still have symptoms. \"\n",
            "-------------------------------\n",
            "\"Periodically on Flagyl bc of crohns and rarely drink,  however I was on it during holidays a couple years ago and toasted the celebration with a half glass of champagne. 3 hours later I was burning up &amp; felt like my chest was abt to explode.  1hour after that the vomiting began. I puked my guts up for 15 hours,  had to go to ER for dehydration and was miserable for another day.  I WOULD NOT RECOMMEND ALCOHOL,  EVEN IN TINY AMOUNTS WHILE ON THIS DRUG. IT&#039;LL RUIN YOUR NEXT DAY OR TWO.\"\n",
            "-------------------------------\n",
            "\"I was into withdrawal one and a half days when I started shaking and feeling anxious. Having already had several seizures due to alcohol I went to my GP who prescribed Librium.  Symptoms almost stopped completely after 1 day and after that no symptoms at all.  Don&#039;t try to stop yourself it&#039;s dangerous and could cost you your life.\"\n",
            "-------------------------------\n",
            "\"Had a major flare up back in April that almost lead to emergency Colonectomy. Hospitalized for 19 days straight, was in 2 different hospitals lost about half my bodies blood and 50 lbs over 6 months time. 1st doctor put me on many of the wrong medications as the disease was too severe. Starting out on Lialda, Uceris then up to Remicade which started to work for about a week and then Prednisone which was horrible. When I was in the 2nd hospital I had another Doctor prescribe Simponi and it took a while but is working for sure. I went from 20 times a day of red to 1 - 3 times a day (clear water).\"\n",
            "-------------------------------\n",
            "\"Second time trying Chantix. First time help me stop smoking for six months but made me crazy. This time doc recommended taking half dose so far four weeks all good.\"\n",
            "-------------------------------\n",
            "\"I have been unemployed now for three years and things have gone from bad to worse. I found myself losing control of my temper and crying for no reason or if someone said something that negative. I couldn&#039;t sleep and when I did it was for two hours at a time. Sometimes I would stay up just crying. To add to my problems my back pain were getting worse. Doctor diagnose me with depression and gave me Zoloft. I started at 25mg for four days and then up to 50mg. It has been only a week, but I am not crying unexpectedly and feel calmer than I have in quite a while and have actually slept 5 hours straight. I had no side effects.\"\n",
            "-------------------------------\n",
            "\"7 years ago I was diagnosed with leukaemia and I drifted into a state of depression. I felt really depressed and felt my life was drifting away so I visited my doctor and he prescribed me 5 mg of escitalopram. Initially this didn&#039;t make any difference and I still felt really depressed. So on return to my Doctor he upped my medication to 10 mg and after about 1week I have never looked back. I now feel like the person I did before I was diagnosed with leukaemia.  I hope this is of help and good luck to anyone who is suffering from this terrible illness please keep your chin up xxxxxxx\"\n",
            "-------------------------------\n",
            "\"Right after surgery, I had a fever, confusion, my blood pressure and rate of breathing went very low. I had not pee&#039;d for several hours,  I had an oxygen level of 60 while I was sleepy and out of it. I was given 60mg of Lasix and not even 15 minutes later I was non stop peeing, my blood pressure and rate of breathing picked up quite a lot. \r\r\n",
            "I can&#039;t even imagine that the pee kept going on and on with the girls using bedpans for me. I was just out of surgery so that was necessary. Doctor kept\r\r\n",
            "the oxygen level up to an 8 for the rest of the night. I believe that the medicine saved my life even though I threw up on it.\"\n",
            "-------------------------------\n",
            "\"I was bleeding very heavy, I could soak through a super plus tampon and a huge after pregnancy pad within minutes. I was passing clots so big they wouldn&rsquo;t fit down the shower drain. My doctor put me on 40mg of Megestrol 1x a day over 3 months ago, so far I had 2 days in a row of light spotting. I love this stuff!!!! I&rsquo;m actually taking this instead of getting a full hysterectomy. My only concern is I had laparoscopic gallbladder surgery about a week ago and I&rsquo;ve had some pretty intense uterine pain with heavy bleeding and blood clots since. I stopped taking the Megestrol for a few days thinking nature would run it&rsquo;s course, I started taking it again and the uterine pain started back up. I hope this surgery didn&rsquo;t wreck Megestrol for me.\"\n",
            "-------------------------------\n",
            "\"I couldn&#039;t handle taking a pill everyday nor could I have anything inserted inside me, so I have been on the nexplanon for 5 months I bled for the first month but my doctor gave me pills and it stopped I&#039;ll stop having period for about 2 months and I&#039;ll come back for about 2 weeks then go away again. I had one big cramp a week after I started but that was it. I love it and I&#039;m not pregnant it works I&#039;m just afraid I might gain wait I haven&#039;t too much yet so I&#039;ll stay active and do far so good!\"\n",
            "-------------------------------\n",
            "\"After I got home and had taken about 4 of these I had loss of appetite, and had a headache. I looked at the papers from the pharmacy and I seen it said sulphamethazole! I called my doctor in a panic since it is listed in my allergies. I haven&#039;t had an allergic reaction, but my dad and moms side have. I finished out the antibiotic and have been fine. I did notice on Monday, which was my last dose, that I was feeling really queezy and had a headache. But no hives. Also This did some weird things while on it. I felt sick, and wasn&#039;t hungry, plus gave me a little anxiety. I will go back in a few days to make sure it is all cleared up. I took it for five days twice a day. I do however feel tons better.\"\n",
            "-------------------------------\n",
            "\"To cut the story short got sex with my husband on my fertile day (14th day) most fertile period, so worried that I might get pregnant took the pill 14 hrs later. Feel nauseated, tender breast and severe headache but luckily after a week have my period now.\"\n",
            "-------------------------------\n",
            "\"I absolutely hate this thing! I got it implanted at the end of december thinking it would be a great alternative to the pill, after the first month of January. It has prevent pregnancy but  I&#039;ve had  a period everyday since January 28. I&#039;ve also experienced severe depression and mood swings. I will be getting this thing out ASAP, I feel like my mood changes are on a downward spiral.\"\n",
            "-------------------------------\n",
            "\"Was on the combined pills before that made me crazy. But this pill actually doesn&#039;t do any of that for me. Sure I&#039;ve gained like 20 pounds in the few months I have been taking it. I have a few more cramps then usual. No abnormal bleeding. I got a little bit more acne then usual. But this pill does the trick for me.\"\n",
            "-------------------------------\n",
            "\"Recurrence of HER2  cancer.  Hip and hand problems. Horrible insomnia and memory issued. But does help hold the cancer back.\"\n",
            "-------------------------------\n",
            "\"This product is unreal. I was always sweating for no reason, at work under my arms were wet all day and all my undershirts were ruined. Then it got worse if I felt like someone was looking at my or I got emberassed my forehead would sweat...seriously this product is amazing works like a charm\"\n",
            "-------------------------------\n",
            "\"I was getting two hours sleep. Constantly woken with severe palpitations and sweats. Within a week of taking Angeliq, getting a full night&#039;s sleep again and no sweats. Fantastic\"\n",
            "-------------------------------\n",
            "\"I have lost a total of 100lb in 1 year on this.  I have about 50 more pounds to go.\"\n",
            "-------------------------------\n",
            "\"I got a yeast infection after going off birth control and my hormones getting messed up. I have had mild yeast infections before and felt this one coming on three days ago though I never went to get it diagnosed at the doctor. I tried to just get through it by applying some anti itch creams and taking homeopathic supplements but my itching/burning just got worse. This morning, I couldn&#039;t even leave my apartment for work I was so swollen and itchy! I bought this product and right off the bat it was super itchy and burned and I started reading the reviews and thought &quot;oh no what have I done!&quot;.\r\r\n",
            "BUT after laying in bed for 2 hours it has stopped hurting and now I feel no itch or pain. I have also been icing. Let&#039;s hope this continues to work!\"\n",
            "-------------------------------\n",
            "\"Very effective. No heartburn or difficulty swallowing, or other symptoms during therapy.\"\n",
            "-------------------------------\n",
            "\"Helped slow me down so much that I was ignoring the pain. I didnt care about anyone or anything . Made me constipated. Just stopped taking it a week ago and dont feel anything bad. Feel much better now that I am off\"\n",
            "-------------------------------\n"
          ]
        }
      ]
    },
    {
      "cell_type": "markdown",
      "source": [
        "##BERT+CNN"
      ],
      "metadata": {
        "id": "p6lNnN7VKFTw"
      }
    },
    {
      "cell_type": "code",
      "source": [
        "with open('/content/drive/MyDrive/Bachelor Scriptie KI/Programming/Notebooks/Error Indexes/Medical/DL_medical_pos_neg.txt', 'r') as readfile:\n",
        "    DL_pos_neg_error_index_str = readfile.readlines()"
      ],
      "metadata": {
        "id": "dbMNn08_IS_j"
      },
      "execution_count": null,
      "outputs": []
    },
    {
      "cell_type": "code",
      "source": [
        "len(DL_pos_neg_error_index_str)"
      ],
      "metadata": {
        "colab": {
          "base_uri": "https://localhost:8080/"
        },
        "id": "gXt9I3x7KNg0",
        "outputId": "44c4d837-e84f-485f-ab74-727bf1acd68b"
      },
      "execution_count": null,
      "outputs": [
        {
          "output_type": "execute_result",
          "data": {
            "text/plain": [
              "839"
            ]
          },
          "metadata": {},
          "execution_count": 68
        }
      ]
    },
    {
      "cell_type": "code",
      "source": [
        "sentence_pipeline(test, DL_pos_neg_error_index_str)"
      ],
      "metadata": {
        "colab": {
          "base_uri": "https://localhost:8080/"
        },
        "id": "Mc2CjXk5KOm8",
        "outputId": "bc8911ad-68d3-4a9b-bfb7-c97f4de808b2"
      },
      "execution_count": null,
      "outputs": [
        {
          "output_type": "stream",
          "name": "stdout",
          "text": [
            "work well\n",
            "-------------------------------\n",
            "' days know body needs time adjust spent last 4hrs 3-7am throwing without cease horrible horrible cramps like on-the-floor-screaming cramps started taking pills least lasted hour time tops ' worried missing school least try manage cramps like ' vouch effectiveness side effects suffered may consider trying break body time adjust without worrying missing classes\n",
            "-------------------------------\n",
            "asacol impact crohn ' flare-ups biologic medicines came relief suggest starting mild drug like realize many options available today help\n",
            "-------------------------------\n",
            "' 5 weeks since last shot series 4 orthovisc injections torn meniscus right knee super swollen pain twice bad injections drug get sleep awoken night/morning excruciating pain ' know heck went wrong ' 47 bone bone arthritis etc surgery repair meniscus torn quot fix quot doctor ' say total knee replacement trying push back till ' older ' problems knee since 2008 ' take anymore supposed keep waiting something happen miraculously ice daily exercise stretching hot tub etc advice would great\n",
            "-------------------------------\n",
            "suffer chronic migraines every dr wants give toradol shots stop toradol fda approved treatment migraines work\n",
            "-------------------------------\n",
            "wanted badly medicine work controlled hypomanic anxiety insomnia made depersonalization concentration irritability worse side effect ' short term memory issues reason latuda 2 instead 1 ' gained weight typical antipsychotic side effects\n",
            "-------------------------------\n",
            "strattera 6 years take one 18mg day take ' feel like feel depressed feel tried time ' like far ' found anything else work\n",
            "-------------------------------\n",
            "watson patches work well stick mylan patches garbage stick deliver relief\n",
            "-------------------------------\n",
            "blue generic version ambien worthless instead enabling sleep become restless agitated addition ' migraine since pharmacy filled prescription generic degenerative discs spine painful need ambien sleep two weeks without sleep pills\n",
            "-------------------------------\n",
            "started cymbalta anxiety amp depression fall 2014 first anti-depressant ' ever tried aside st. john ' wort side effects first week taking terrible stop constantly dizzy ' focus anything made body tense ' catch clenching teeth fists insomnia terrible ' wake ~5x per night work healthcare felt like ' job side effects stopped side effects really worse anxiety depression doubt would eventually decreased ' wait happen obviously side effects different everybody ' story\n",
            "-------------------------------\n",
            "concerns birth control drug called quot nikki quot - exact thing quot gianvi quot doubt took gianvi 4 years gained 5 lbs provider switched quot nikki quot 3 months lost 15 pounds great right backside breasts went flat alarmed looked like boy like ' breasts obgyn said could * possibly * drug go get blood test physical tests came back normal went nikki gained 10 pounds gave nikki another chance see fluke quickly lost 10 pounds ' regained looked like dying went nikki gained 15 pounds weight back called obgyn says ' coincidence ' think\n",
            "-------------------------------\n",
            "good depression anxiety helps sleep\n",
            "-------------------------------\n",
            "taken prozac 20 40mg quite years ago really positive outcome point stopped working went welbutrin recently started get panic doctor thought adding prozac daily regimen would help worked well past side effects difficult 3 weeks crying unable eat anxiety every minute lost 10 pounds good side effect subside seemed working days anxiety tremors daily unfortunately ' working time around switching would definitely recommend people since work wonderfully panic gad\n",
            "-------------------------------\n",
            "tried testim samples found fragrance revolting dissipate day imagine smelling applied cologne every day life really ripped manufacturer ' stupidity website one thing man hypogonadism wants one doctor lover know hypogonadism walking around strong scent everyday would odd office environment doubt someone would ask cologne name thoughtless\n",
            "-------------------------------\n",
            "helped control anger issue 90 days two increases doseage depression unchanged\n",
            "-------------------------------\n",
            "although cipram initially seemsd help bad patch divorce lost ability enjoy sex achieve orgasm previously enjoyed happy active fulfilling pleasurable sex life ready date new boyfriends frustrating caused deeper unhappiness sadness .. ' hoping pleasure return .. wish ' never taken\n",
            "-------------------------------\n",
            "major depression mixed features could sleep medication yet would tired could nap day took morning night ineffective sleeping well woke least 10 times helpful made nauseous\n",
            "-------------------------------\n",
            "started taking gildess 2-3 years periods became much lighter made skin much better gain lot weight gildess beginning soon shed month ended coming birth control worst mistake life got post birth control acne worse anywho went back doc prescribed prevefim ....... ' prevefim little year flipping hate first weight gain ' problem .. acne control said supposed clear skin yet thing best thing babies use\n",
            "-------------------------------\n",
            "months sleepless nights finally went doc prescribed amitriptyline 6 7 days ago doc said skip dose - take every night takes 2 weeks get system enough work properly jury ' still put sleep several hours taking sometimes ' work wide awake 5:30 a.m. morning last last night asleep within hour laying slept 11 a.m. morning days feel groggy others feel refreshed pain level decreased drastically bad arthritic knees wondering drug helps relieve inflammation think makes calmer day still hoping .....\n",
            "-------------------------------\n",
            "impressed embeda found absolutely effect whatsoever pain back injury years chronic pain embeda relief except would put sleep drowsiness causes\n",
            "-------------------------------\n",
            "doctor said try heartburn 1 pill per 24 hours ... quick get rid pain acid taste wore 4 hours\n",
            "-------------------------------\n",
            "week 3 monday begin full dose 2 pills mornings 2 evenings far lost 4 pounds.i walking treadmill little exercises every day helped control appetite little lot see 4 pound lose disappointed going continue weeks decide whether continue\n",
            "-------------------------------\n",
            "prescribed 25mg gad ' anything requested upped dose prescribed 50mg still nothing tried benadryl lemon balm many things thag never worked xanax still really ' much 0.5dose works maybe 30min well\n",
            "-------------------------------\n",
            "ranitidine help duodenal ulcer acid reflux acid nothing using medication called sucralfate ' working like dream ps chronic pancreatitis ... enzymes take pancrealipase digest\n",
            "-------------------------------\n",
            "' want deal inconvenience 7 day treatment worked well decided try ovule cried first got beyond tears used icepack ended er apply numbing agent addition giving injection internal relief never\n",
            "-------------------------------\n",
            "using victoza switched saxenda saxenda months continued gain weight lose 3.0 saxenda qsymia prior victoza lost 25-30 lbs insurance deemed diet drug ' pay thoughts would appreciated much feel like big whale especially around middle area want qysimia back expensive get pcp endocrinologist -- prescribed past- prescribe due termed weight loss drug a1c went lot qysimia well topamax ' work tried want qysimia back\n",
            "-------------------------------\n",
            "cut finger working car dirty wound required stitches given clindamycin order prevent infection remember specific warning increased chance type intestinal problems associated antibiotic clindamycin caused get c diff infection sent er painful passing mucus blood stool never experienced anything like never take drug suggest research taking antibiotic problems seem clearing course flagyl cipro antibiotics fix others side effects good luck anyone suffering\n",
            "-------------------------------\n",
            "moderate severe knee pain awaiting knee replacement surgery tried lortab 10 mgs developed allergic reaction itching md prescribed panlor ss never got chance see really worked also reaction thing figure developed allergy codeine years age 52 common ingredient think\n",
            "-------------------------------\n",
            "' sick 3 weeks doctor emergency med place prescribed nagging cough past ' sick something like prescribed narcotic cough medicine helped get sleep need hesitant take pill came site intuition telling take pills negative reviews helped confirm already felt inside\n",
            "-------------------------------\n",
            "son 11 absence seizures year trying treat 7 different medicines added keppra 500 mg 300 mg zonegran next day first dose keppra noticeable seizures 2 weeks later first grand mal took keppra absence seizures back grand mals.\n",
            "-------------------------------\n"
          ]
        }
      ]
    },
    {
      "cell_type": "code",
      "source": [
        "sentence_pipeline(raw_testset, DL_pos_neg_error_index_str)"
      ],
      "metadata": {
        "colab": {
          "base_uri": "https://localhost:8080/"
        },
        "id": "Ekj1BHtBKRMD",
        "outputId": "453ee859-5671-49c5-ed08-5582a64fc8c1"
      },
      "execution_count": null,
      "outputs": [
        {
          "output_type": "stream",
          "name": "stdout",
          "text": [
            "\"Does not work well for me.\"\n",
            "-------------------------------\n",
            "\"I&#039;ve only been on this for a few days, and I know my body needs time to adjust, but I just spent the last 4hrs (3-7am!) throwing up without cease. I have had horrible, horrible cramps, like, on-the-floor-screaming cramps (which is why I started taking these pills), but at least those only lasted an hour at a time tops! I&#039;m worried about missing school, and I can at least try to manage my cramps like I have before. I can&#039;t vouch for its effectiveness, only the side effects I suffered, but I may consider trying it again during a break when my body has time to adjust without worrying about missing classes.\"\n",
            "-------------------------------\n",
            "\"Asacol had no impact on my Crohn&#039;s flare-ups at all. Until the biologic medicines came out, I had no relief at all. I suggest starting with  mild drug like this but to realize that there are so many more options available today if this does not help.\"\n",
            "-------------------------------\n",
            "\"It&#039;s been 5 weeks since the last shot in a series of 4 Orthovisc injections for my torn meniscus. My right knee is now super swollen, and my pain is now Twice as bad as before the injections!! I drug myself up to get to sleep, but I am awoken each night/morning with excruciating pain!! I don&#039;t know what the heck went wrong! I&#039;m only 47, with bone on bone, arthritis, etc. Had surgery to repair meniscus, but it was torn again! Only &quot;fix&quot; the doctor&#039;s say is a total knee replacement. Trying to push it back till I&#039;m older, but I&#039;ve had problems with this Knee since 2008!!! Can&#039;t take it anymore! Am I supposed to keep waiting for something to happen miraculously? I ice it daily, exercise, stretching, hot tub, etc. Any advice would be great!\"\n",
            "-------------------------------\n",
            "\"I suffer from chronic migraines and every dr wants to give toradol shots to stop them.  Toradol is not FDA approved as a treatment for migraines.  It does not work.\"\n",
            "-------------------------------\n",
            "\"I wanted so badly for this medicine to work, but it has not controlled my hypomanic anxiety or insomnia at all. And it made my depersonalization, concentration, and irritability worse. And now as a side effect I&#039;m having short term memory issues.\r\r\n",
            "\r\r\n",
            "The only reason that Latuda has a 2 instead of a 1 is because I haven&#039;t gained any weight or had any other typical antipsychotic side effects.\"\n",
            "-------------------------------\n",
            "\"I have been on Strattera  for 6 years. I take one 18mg a day. When I take it I don&#039;t feel like myself. I feel depressed. I feel tried all the time. So for me I don&#039;t like it but so far they haven&#039;t found anything else that will work  for me.\"\n",
            "-------------------------------\n",
            "\"The Watson patches work well and stick. The Mylan patches are garbage. They do not stick and deliver no relief.\"\n",
            "-------------------------------\n",
            "\"This blue generic version of ambien is worthless. Instead of enabling sleep, I become restless and agitated. In addition, I&#039;ve had a migraine since the pharmacy filled my prescription with this generic. I have degenerative discs in my spine, which is very painful, and need the ambien to sleep. Two weeks now without sleep on these pills.\"\n",
            "-------------------------------\n",
            "\"Started on Cymbalta for anxiety &amp; depression fall 2014. It was the first anti-depressant that I&#039;d ever tried (aside from St. John&#039;s Wort). Side effects during the first week of taking it were SO terrible that I had to stop. I was constantly dizzy. I couldn&#039;t focus on anything. It made my body so tense, I&#039;d catch myself clenching my teeth and fists. Insomnia was terrible; I&#039;d wake up ~5x per night. I work in healthcare and I felt like I couldn&#039;t do my job with all of these side effects, so I stopped. The side effects were really worse than my anxiety and depression. I have no doubt that they would have eventually decreased, but I couldn&#039;t wait for that to happen. Obviously, the side effects will be different for everybody but that&#039;s my story\"\n",
            "-------------------------------\n",
            "\"Concerns about a birth control drug called &quot;Nikki&quot; - the same exact thing as &quot;Gianvi&quot;? Doubt it: Took Gianvi for 4 years and gained 5 lbs. Then my provider switched me to &quot;Nikki&quot;. In 3 months, I lost 15 pounds. Great, right? No, my backside and breasts went flat. I was alarmed, I looked like a boy, like I didn&#039;t have breasts at all. My OBGYN said it could not *possibly* be the drug and that I should go get a blood test and physical. Tests came back normal. Went off Nikki, gained 10 pounds. Gave Nikki another chance to see if it was a fluke. Quickly lost the 10 pounds I&#039;d regained. I looked like I was dying. Went off Nikki again. Gained all 15 pounds of my weight back. Called my OBGYN again. She says it&#039;s a coincidence. I don&#039;t think so.\"\n",
            "-------------------------------\n",
            "\"No good for depression or anxiety. For me just helps you to sleep\"\n",
            "-------------------------------\n",
            "\"I have taken Prozac 20 and 40mg quite a few years ago with really positive outcome, but at a point it stopped working so I went to welbutrin.  recently I started to get panic again and my doctor thought adding Prozac into my daily regimen would help because it worked so well in the past.  The side effects were so difficult for 3 weeks.  crying, unable to eat, anxiety every minute, lost about 10 pounds which was a good side effect :).  but they did subside.  It seemed to be working but now some days I am having anxiety again and tremors daily.  Unfortunately it isn&#039;t working this time around and will be switching off it, but I would definitely recommend it for people since it did once work wonderfully for my panic and GAD.\"\n",
            "-------------------------------\n",
            "\"I tried Testim samples and found its fragrance revolting and it did not dissipate through the day.  I cannot imagine smelling as if I applied cologne every day of my life.  And I really ripped into the manufacturer&#039;s stupidity on their website.  One thing any man with hypogonadism wants is for no one but his doctor and lover to know he has hypogonadism.  Walking around with the same strong scent everyday would be odd in an office environment and no doubt someone would ask what the cologne name is.  It is so thoughtless.\"\n",
            "-------------------------------\n",
            "\"Helped control Anger issue but after 90 days and two increases in doseage the Depression is unchanged\"\n",
            "-------------------------------\n",
            "\"Although cipram initially seemsd to help me over a bad patch ( divorce )  I  lost my ability to enjoy sex , achieve orgasm Previously enjoyed a happy active fulfilling and pleasurable sex life. When I was ready to date again and have new boyfriends this was frustrating and caused deeper unhappiness and sadness .. I&#039;m hoping my pleasure will return .. Wish I&#039;d never taken it !\"\n",
            "-------------------------------\n",
            "\"I had Major depression with mixed features.  I could not sleep on this medication yet would be very tired and could nap during the day. Took it in the morning and at night and both were ineffective for sleeping well. Woke up at least 10 times. Not helpful, made me nauseous.\"\n",
            "-------------------------------\n",
            "\"Before I started taking this I was on Gildess for about 2-3 years. My periods became so much lighter and it just made my skin that much better! I did gain a lot of weight with Gildess in the beginning but it soon shed off after a month or so. I ended up coming off of birth control (worst mistake of my life! I got post birth control acne at its very worse!) anywho, I went back to the doc and she prescribed me prevefim....... I&#039;ve been on prevefim for a little under a year and I flipping hate it!! First of all, weight gain wasn&#039;t a problem.. But my acne is not under control at all. She said it was supposed to clear up my skin and it has yet to do any thing! Best thing about it is no babies. Do not use this!\"\n",
            "-------------------------------\n",
            "\"After months of sleepless nights, I finally went to the doc and was prescribed Amitriptyline about 6 or 7 days ago. The doc said not to skip a dose - to take it every night. It takes about 2 weeks to get into your system enough to work properly. Jury&#039;s still out, but it does not put me to sleep for several hours after taking it, and sometimes it doesn&#039;t work at all. I was wide awake at 5:30 a.m. morning before last. Last night I was asleep within an hour of laying down and slept until 11 a.m. this morning. Some days I feel groggy, and others I feel refreshed. My pain level has decreased drastically. Have bad, arthritic knees. Wondering if this drug helps relieve inflammation? I think it makes me calmer the day after. Still hoping.....\"\n",
            "-------------------------------\n",
            "\"Not impressed. I was on Embeda, but found it had absolutely no effect on me whatsoever for my pain.  I have a back injury that I have had for years, and I am in chronic pain. While on Embeda, there was NO relief, except that it would put me to sleep from the drowsiness that it causes.\"\n",
            "-------------------------------\n",
            "\"Doctor said to try this for heartburn its 1 pill per 24 hours... was quick to get rid of pain and acid taste wore off after 4 hours.\"\n",
            "-------------------------------\n",
            "\"I am into week 3 and Monday I will begin the full dose of 2 pills in the mornings and 2 in the evenings. So far I have lost about 4 pounds.I have been doing some walking on the treadmill and some other little exercises every other day.  It has helped control my appetite a little but, not a lot as you can see with only a 4 pound lose. I am disappointed but I am going to continue for a few more weeks and then will decide whether to continue on them or not.\"\n",
            "-------------------------------\n",
            "\"Prescribed 25mg for GAD. It didn&#039;t do anything so I requested an upped dose. They prescribed me 50mg and it still did nothing. I have tried Benadryl, Lemon Balm and so many other things thag never worked. I am on Xanax now but it still really doesn&#039;t do much. I am on a 0.5dose and it works more maybe 30min and not very well.\"\n",
            "-------------------------------\n",
            "\"This Ranitidine did not help duodenal ulcer, my acid reflux, my acid nothing I am now using a medication called sucralfate and it&#039;s working like a dream!\r\n",
            "ps. I have Chronic pancreatitis... what enzymes?  I have to take Pancrealipase to digest.\"\n",
            "-------------------------------\n",
            "\"I didn&#039;t want to deal with the inconvenience of a 7 day treatment which has worked so well for me before, so I decided to try the ovule. I cried first, when it got beyond tears I used a icepack. I ended up in the ER and they had to apply a numbing agent in addition to giving me an injection for the internal relief. NEVER AGAIN!!!!!\"\n",
            "-------------------------------\n",
            "\"I have been using victoza then switched to saxenda. Been on saxenda for months.  Have continued to gain weight, not lose.  I am on 3.0 saxenda .  Was on qsymia prior to victoza, and lost about 25-30 lbs, until my insurance deemed it a diet drug and now won&#039;t pay for it! Any thoughts would be appreciated very much. I feel like a big whale, especially around my middle area. I want my qysimia back, but it is expensive and cannot get my pcp or endocrinologist--who prescribed it in the past- to prescribe it now due to being termed weight loss drug. My A1c went down a lot on qysimia as well.  Topamax  didn&#039;t work by itself as I have tried that too!!  I want my qysimia back!!\"\n",
            "-------------------------------\n",
            "\"I cut my finger working on my car, It was a very dirty wound that required stitches and I was given Clindamycin in order to prevent infection.  I do not remember any specific warning about the increased chance of any type of intestinal problems associated with this antibiotic.  The Clindamycin caused me to get a C Diff infection that sent me to the ER.  Very painful and passing mucus and blood in the stool.  I have never experienced anything like this before.  I will never take this drug again and suggest doing research before taking this or any other antibiotic.  The problems seem to be clearing up after a course of Flagyl  and Cipro.  More antibiotics to fix the others side effects.  Good luck to anyone suffering from this.\"\n",
            "-------------------------------\n",
            "\"I have moderate to severe knee pain; awaiting  knee replacement surgery. I tried lortab 10 mgs but developed allergic reaction (itching). Md prescribed panlor ss. I never got the chance to see if it really worked because I also had a reaction to it. The only thing I can figure out is that I have developed an allergy to codeine after all these years at age 52. That is the only common ingredient that I can think of\"\n",
            "-------------------------------\n",
            "\"I&#039;ve been sick for 3 weeks and a doctor at an Emergency Med place prescribed this for my nagging cough. In the past when I&#039;ve been sick with something like this I was prescribed a narcotic cough medicine which helped me get the sleep I need. I was hesitant to take a pill and came on this site. My own intuition was telling me NOT to take the pills. All of these negative reviews have helped me confirm what I already felt inside!\"\n",
            "-------------------------------\n",
            "\"My son, 11 has had absence seizures for a year now.  Have been trying to treat it and have been through 7 different medicines.  Added Keppra 500 mg to his 300 mg of Zonegran. The NEXT DAY after first dose of Keppra he had not noticeable seizures, but 2 weeks later he had his first and only grand mal.  We took him off Keppra; the absence seizures are back, but no grand mals.  \"\n",
            "-------------------------------\n"
          ]
        }
      ]
    },
    {
      "cell_type": "code",
      "source": [
        "with open('/content/drive/MyDrive/Bachelor Scriptie KI/Programming/Notebooks/Error Indexes/Medical/DL_medical_neg_pos.txt', 'r') as readfile:\n",
        "    DL_neg_pos_error_index_str = readfile.readlines()"
      ],
      "metadata": {
        "id": "x0xbZldhKUo8"
      },
      "execution_count": null,
      "outputs": []
    },
    {
      "cell_type": "code",
      "source": [
        "len(DL_neg_pos_error_index_str)"
      ],
      "metadata": {
        "colab": {
          "base_uri": "https://localhost:8080/"
        },
        "id": "TKbRfQPtNeK_",
        "outputId": "ed7e96e6-5a89-4afa-d2f3-c2ccfcb535cc"
      },
      "execution_count": null,
      "outputs": [
        {
          "output_type": "execute_result",
          "data": {
            "text/plain": [
              "882"
            ]
          },
          "metadata": {},
          "execution_count": 72
        }
      ]
    },
    {
      "cell_type": "code",
      "source": [
        "sentence_pipeline(test, DL_neg_pos_error_index_str)"
      ],
      "metadata": {
        "colab": {
          "base_uri": "https://localhost:8080/"
        },
        "id": "3E7bZuKmNfKC",
        "outputId": "a3d0d713-e89d-4e30-a32b-bc3f2adf9cb7"
      },
      "execution_count": null,
      "outputs": [
        {
          "output_type": "stream",
          "name": "stdout",
          "text": [
            "paraguard four years experienced bad cramps ovulation period along heavy bleeding switched mirena consulting new gyn removal paraguard painless took less second original insertion extremly painful inserted late 20s children still children found insertion mirena worse two bad cramps lasting second took 800mg motrin hour prior precedure may helped cramping spotting procedure still cramping spotting\n",
            "-------------------------------\n",
            "honestly- tried seriously every single otc prescription acne product try baby rsquo 24 wonder drug rsquo taking spirinolactone 7 months rsquo almost positive never want stop tell worst cystic acne ever every day new one went months rsquo even leave house unless get injected- rsquo also avid picker terribly low self esteem anywho- rsquo able take medication mdash would try might wonder drug\n",
            "-------------------------------\n",
            "earlier year rheumatologist patient study asked included nothing else tried made difference symptoms .. usual pain fatigue memory probs confusion depression sleeplessness able take savella five days nausea asked continue said stop drug immediately side effects experienced loss appetite tingling/twitching upper lip ... things could live next day horrid pain may pain since symptoms nothing fingers crossed\n",
            "-------------------------------\n",
            "emend wonder-drug ' chemotherapy vomited fact ' experienced intermittent waves nausea lasted brief periods time oncologist said take quot feet hit floor quot right cancer patients insist\n",
            "-------------------------------\n",
            "tried several medications one week cloderm symptoms decreased considerably\n",
            "-------------------------------\n",
            "took paxil 5 years severe panic attacks anxiety got point could barely leave house without anxiety 20 mg day worked wonders felt quot normal quot first time years however ... gained 50 lbs decided get weaned slowly still withdrawal symptoms brain zaps severe headaches dizzy restless faint weak list goes 5 months still symptoms.\n",
            "-------------------------------\n",
            "periodically flagyl bc crohns rarely drink however holidays couple years ago toasted celebration half glass champagne 3 hours later burning amp felt like chest abt explode 1hour vomiting began puked guts 15 hours go er dehydration miserable another day would recommend alcohol even tiny amounts drug ' ruin next day two\n",
            "-------------------------------\n",
            "deepest pit depression felt hormonal labs drawn shown menopause hysterectomy left one ovary depression started year march spiralled control seriously deciding whether stick around ' want live mental pain much noticed study women treated successfully severe hormonal depression using premarin mirtazipine within 24 hours depression gone gone gone believe mostly premarin ads take longer work want start campaign horses treated poorly ' get pg humans pay\n",
            "-------------------------------\n",
            "doctor put nuvaring shy 3 months ago temporary alternative assure procedure due needing take birth control 3 months process previously taken hormones 10 yrs first month fine problems lighter cycle usual 2nd month started crazy mood swings bloating stage saw ob/gyn today gained much weight bloat ' unable wear regular clothes work 4x wk eat healthy almost vegeterian caffeine daily cup coffee doctor said gained 10 lbs need remove nuvaring\n",
            "-------------------------------\n",
            "would recommend patch anyone company printed black ink product name patch beyond dumb glue leaves huge circle underwear come glue leaves circles skin patch removed almost impossible come used vivelle none problems plus patch half size product insurance said product generic would longer pay vivelle\n",
            "-------------------------------\n",
            "describe amount excruciating pain medicine causes nothing say describe feeling take definitely pain first woken severe nausea last hour raging event came night long back forth bathroom would think ' way anything left bam toilet say works understatement\n",
            "-------------------------------\n",
            "mirena inserted two weeks ago second day period two children ' feel insertion device doctor use ultrasound machine make sure placement correct took 800mg ibuprofen went appt slight cramping light/bleeding since avid runner problems pain rigorous exercise intercourse hoping weeks go light bleeding decreases ' worth 4 years birth control\n",
            "-------------------------------\n",
            "7 years ago diagnosed leukaemia drifted state depression felt really depressed felt life drifting away visited doctor prescribed 5 mg escitalopram initially ' make difference still felt really depressed return doctor upped medication 10 mg 1week never looked back feel like person diagnosed leukaemia hope help good luck anyone suffering terrible illness please keep chin xxxxxxx\n",
            "-------------------------------\n",
            "bleeding heavy could soak super plus tampon huge pregnancy pad within minutes passing clots big rsquo fit shower drain doctor put 40mg megestrol 1x day 3 months ago far 2 days row light spotting love stuff rsquo actually taking instead getting full hysterectomy concern laparoscopic gallbladder surgery week ago rsquo pretty intense uterine pain heavy bleeding blood clots since stopped taking megestrol days thinking nature would run rsquo course started taking uterine pain started back hope surgery rsquo wreck megestrol\n",
            "-------------------------------\n",
            "absolutely hate thing got implanted end december thinking would great alternative pill first month january prevent pregnancy ' period everyday since january 28 ' also experienced severe depression mood swings getting thing asap feel like mood changes downward spiral\n",
            "-------------------------------\n",
            "since started medication felt cravings drink great deterrent even bothered test reaction drinking thought crossed mind try thought horribly ill see would ' seem like brightest idea anyway main reason posting say unlike many posts suffered side effects ' struggled little sexual performance rash acne issues visit doctor see done ' want stop medication works great forty two abusing alcohol least twenty years almost seven weeks clean\n",
            "-------------------------------\n",
            "use xanax 1mg anxiety panic disorder medicine drug brought relief constant anxiety ' know ' without take use drug seriously ' abuse use needed panic anxiety intense simply ' tolerate longer used properly drug safe become addicted ' fast acting 15 min important panic attack hits side effects minimal get quot jelly legs quot ' ' never made stumble fall though generic version ' quite good real stuff must use generic round blue tabs better oval ones\n",
            "-------------------------------\n",
            "2.5 mg/day 1 week moved 5 mg 10 days developed mild ringing ears mild symptoms stopped cialis late damage already done hair cells cochlea inner ear prednisone 5 days 30 mg 5 days 15 mg seems helped ringing ears 6 weeks cialis started 2nd round side effects ringing ears seems diminishing 5 mg 3 weeks ok good positive effects ringing ' completely gone drug plan pays 100 % luckily long buy 90 day supply $ 450 incur 1 pharma dispensing fee\n",
            "-------------------------------\n",
            "800 mg tegretol still pain\n",
            "-------------------------------\n",
            "give time get method application mastered bend four corners slightly make stick better ' peel also ' put film directly saliva duct check try putting front manufacturer coupon bcbs pay $ 30 60 bunavail 4.2/0.7mg films bunavail tier 3 medication manufacturer card pays $ 100\n",
            "-------------------------------\n",
            "march 21-25 period march 26 accident cycle ranges 28-33 days took plan b within 1 hour day march 26 day got cramps got really tired next day experienced diahrrea march 31st started bleeding scared lasted 4 days bleeding really light spent april worrying took 10 home pregnancy test negative well today started bleeding makes 3 days late actual period yet time plan b period never want go ever\n",
            "-------------------------------\n",
            "64 yr old female severe pain stiffness knees due advanced osteoarthritis ortho doc recommended series 4 weekly orthovisc injections knees shots painful improvement 3rd week 1 wk post 4th final shots greatly decreased pain exercise regularly without pain difficulty still walking stairs highly recommended orthovisc injection treatment\n",
            "-------------------------------\n",
            "experience horrible muscle spasms due cerebral palsy high dose zanaflex last eight years topped brave forward thinking doc put soma three times day wonders coupled opiate lyrica nsaids virtually little spasms wake everyday happy instead suicidal rsquo understand perfectly harmless drug blacklisted barbiturate take soma turns meprobamate drugs mimic barbiturates true barbiturates like pheno secobarb doctors remember ur anything wrong dea rsquo screw\n",
            "-------------------------------\n",
            "extremely effective birth control makes feel confident safe single young woman friends pregnancy scares taking pill nice mirena removes fear since ' risk pregnancy forgetting take pill however insertion excruciating absolutely horrible experience ' regret though completely stopped menstruation saving much money period products\n",
            "-------------------------------\n",
            "got yeast infection going birth control hormones getting messed mild yeast infections felt one coming three days ago though never went get diagnosed doctor tried get applying anti itch creams taking homeopathic supplements itching/burning got worse morning ' even leave apartment work swollen itchy bought product right bat super itchy burned started reading reviews thought quot oh done quot laying bed 2 hours stopped hurting feel itch pain also icing let ' hope continues work\n",
            "-------------------------------\n",
            "personally liked nexplanon first got well sex month implant sex first time since implanted next day period stayed almost month half went doctor iron vitamin low take pills well stopped period heavy period 2 months time sex started period tho still annoying ' since 10-2016 good birth control ' gotten pregnant otherwise ' recommend breast hurt bad time skin broken ' gained 30 pounds ' always angry get heat flashes\n",
            "-------------------------------\n",
            "taking baclofen couple months severe muscle spasms help muscle spasms borderline personality disorder medication given sense well-being also severe anxiety find take baclofen 80 mgs day feel anxious anxiety attacks believe research needs done drug effects different types mental illness\n",
            "-------------------------------\n",
            "blast manic episode deepest depressive episode set seroquel medicine stopped\n",
            "-------------------------------\n",
            "took first dose within hour went ' sweating like anything terrible gas bloating mentally feel little anxious ok. ' wondering long stuff blocks receptors anyone\n",
            "-------------------------------\n",
            "cymbalta 60 mg 8 yrs chronic headaches.i told fibro yrs ago depression dr tried get 4-5 yrs ago ' dr says let ' titrated 60mg alternated 30mg every day 2 weeks went 30mg 10 days 30 every day week caught virus couldnt eat cold turkeyed bad zings sick depressed migraines amp achy grouchy 3 weeks better irritable achy dr let try savella look toddler grouchy good nature ' go back .... also used generic duloxiotine\n",
            "-------------------------------\n"
          ]
        }
      ]
    },
    {
      "cell_type": "code",
      "source": [
        "sentence_pipeline(raw_testset, DL_neg_pos_error_index_str)"
      ],
      "metadata": {
        "colab": {
          "base_uri": "https://localhost:8080/"
        },
        "id": "dPcIBE8mNhZl",
        "outputId": "74342bf4-d506-4fe8-82dc-6e1d0c13b752"
      },
      "execution_count": null,
      "outputs": [
        {
          "output_type": "stream",
          "name": "stdout",
          "text": [
            "\"I had paraguard for four years and experienced very bad cramps during ovulation and my period, along with heavy bleeding.  I switched to Mirena after consulting with a new GYN.   The removal of paraguard was painless and took less than a second.  The original insertion of it was extremly painful.  I had it inserted when I was in my late 20s, no children.  I still have no children and found the insertion of the Mirena to be no worse than two bad cramps, each lasting only a second.  I took 800mg of Motrin about an hour prior to the precedure, which may have helped.  I had no cramping or spotting after the procedure and have still have no cramping or spotting.\"\n",
            "-------------------------------\n",
            "\"Honestly- I tried seriously every single OTC and prescription acne product there was to try. Both before and after I had a baby. I&rsquo;m 24 and this is THE wonder drug. I&rsquo;ve been taking spirinolactone for 7 months and I&rsquo;m almost positive I never want to stop. I can tell you I had the worst cystic acne there ever was, every other day I had a new one and this went on for months where I wouldn&rsquo;t even leave the house unless it was to get it injected- I&rsquo;m also an avid picker and had terribly low self esteem . Anywho- if you&rsquo;re able to take this medication&mdash; I would try because it might be the wonder drug for you too.\"\n",
            "-------------------------------\n",
            "\"Earlier this year, my rheumatologist was doing a patient study and I asked to be included.  Nothing else we had tried had made any difference in my symptoms..which were the usual: pain, fatigue, memory probs, confusion and depression with sleeplessness.  I was only able to take Savella for five days because of nausea.  I asked to continue but he said to stop the drug IMMEDIATELY. (The only other side effects I experienced were loss of appetite and a tingling/twitching of my upper lip...things I could live with.)  The next day, I had horrid pain.  That was in May and I have had NO pain since, nor have I had ANY other symptoms.  NOTHING! Fingers crossed!!!\"\n",
            "-------------------------------\n",
            "\"Emend is a wonder-drug. I&#039;m having chemotherapy and have not vomited once. In fact, I&#039;ve only experienced intermittent waves of nausea that lasted for brief periods of time. My oncologist said to take it &quot;before your feet hit the floor,&quot; and he was right. Cancer patients: Insist on having it.\"\n",
            "-------------------------------\n",
            "\"Have tried several other medications, one week of Cloderm symptoms decreased considerably.\"\n",
            "-------------------------------\n",
            "\"I took Paxil for 5 years for severe panic attacks and anxiety. I got to the point where I could barely leave the house without anxiety. I was on 20 mg once a day and it worked wonders for me. I felt &quot;normal&quot; for the first time in years. HOWEVER... I gained 50 lbs. I decided to get off and weaned myself very slowly but still had withdrawal symptoms: brain zaps, severe headaches, dizzy, restless, faint, weak and the list goes on. I have been off for 5 months now and still have symptoms. \"\n",
            "-------------------------------\n",
            "\"Periodically on Flagyl bc of crohns and rarely drink,  however I was on it during holidays a couple years ago and toasted the celebration with a half glass of champagne. 3 hours later I was burning up &amp; felt like my chest was abt to explode.  1hour after that the vomiting began. I puked my guts up for 15 hours,  had to go to ER for dehydration and was miserable for another day.  I WOULD NOT RECOMMEND ALCOHOL,  EVEN IN TINY AMOUNTS WHILE ON THIS DRUG. IT&#039;LL RUIN YOUR NEXT DAY OR TWO.\"\n",
            "-------------------------------\n",
            "\"I was in the DEEPEST pit of depression. I felt that it was hormonal. Had labs drawn and was shown to be in menopause. Had a hysterectomy which left me with one ovary. The depression started this year in March and spiralled out of control. I was seriously deciding whether or not to stick around not because I didn&#039;t want to live, but the mental pain was too much. I noticed in a study of women that were treated successfully for severe hormonal depression using premarin and mirtazipine. Within 24 hours the depression was GONE GONE GONE! I believe it is mostly the premarin because ADs take longer than that to work. I want to start a campaign for the horses that are being treated to poorly. Why can&#039;t we get this from pg. humans and pay them?\"\n",
            "-------------------------------\n",
            "\"My doctor put me on NuvaRing just shy of 3 months ago as a temporary alternative to the Assure procedure due to me needing to take birth control 3 months before the process. Previously I had not taken any hormones in over 10 yrs.  The first month was fine. NO problems and I had a lighter cycle than usual.  The 2nd month I started having crazy mood swings, and bloating.  At this stage I just saw my OB/Gyn today because I have gained so much weight and bloat. I&#039;m unable to wear my regular clothes.  I work out 4x a wk eat healthy (almost vegeterian) and my only caffeine is a daily cup of coffee. My doctor said I have gained 10 lbs and need to remove NuvaRing.\"\n",
            "-------------------------------\n",
            "\"I would NOT recommend this patch to anyone. The company has printed in black ink the product name on the patch itself, which is beyond dumb!!  The glue leaves huge circle on your underwear that will not come off. The glue leaves circles on your skin when the patch is removed, which is almost impossible to come off. I used Vivelle before and had none of these problems, plus the patch was half the size as this product. Insurance said this product was a generic and would no longer pay for the Vivelle.\"\n",
            "-------------------------------\n",
            "\"I cannot describe the amount of excruciating pain this medicine causes. Nothing I say will describe the feeling. Do not take this. You will most definitely be in pain. First I was woken up by severe nausea and that last about an hour before raging event came. All night long! Back and forth to the bathroom. I would think there&#039;s no way I have anything left in me and bam there I am on the toilet again! To say it works is an understatement.\"\n",
            "-------------------------------\n",
            "\"I had the Mirena inserted two weeks ago on the second day of my period.  I have had two children and I didn&#039;t feel the insertion of the device AT ALL.  My doctor did use the ultrasound machine to make sure the placement was correct.  I took 800mg of ibuprofen before I went to my appt.  I had slight cramping and have had light/bleeding since.  I am and avid runner and I have no problems with pain after rigorous exercise or intercourse.  I am hoping that as the weeks go by the light bleeding decreases.  It&#039;s worth 4 years of birth control to me.\"\n",
            "-------------------------------\n",
            "\"7 years ago I was diagnosed with leukaemia and I drifted into a state of depression. I felt really depressed and felt my life was drifting away so I visited my doctor and he prescribed me 5 mg of escitalopram. Initially this didn&#039;t make any difference and I still felt really depressed. So on return to my Doctor he upped my medication to 10 mg and after about 1week I have never looked back. I now feel like the person I did before I was diagnosed with leukaemia.  I hope this is of help and good luck to anyone who is suffering from this terrible illness please keep your chin up xxxxxxx\"\n",
            "-------------------------------\n",
            "\"I was bleeding very heavy, I could soak through a super plus tampon and a huge after pregnancy pad within minutes. I was passing clots so big they wouldn&rsquo;t fit down the shower drain. My doctor put me on 40mg of Megestrol 1x a day over 3 months ago, so far I had 2 days in a row of light spotting. I love this stuff!!!! I&rsquo;m actually taking this instead of getting a full hysterectomy. My only concern is I had laparoscopic gallbladder surgery about a week ago and I&rsquo;ve had some pretty intense uterine pain with heavy bleeding and blood clots since. I stopped taking the Megestrol for a few days thinking nature would run it&rsquo;s course, I started taking it again and the uterine pain started back up. I hope this surgery didn&rsquo;t wreck Megestrol for me.\"\n",
            "-------------------------------\n",
            "\"I absolutely hate this thing! I got it implanted at the end of december thinking it would be a great alternative to the pill, after the first month of January. It has prevent pregnancy but  I&#039;ve had  a period everyday since January 28. I&#039;ve also experienced severe depression and mood swings. I will be getting this thing out ASAP, I feel like my mood changes are on a downward spiral.\"\n",
            "-------------------------------\n",
            "\"Since I have started on this medication, I have felt very few cravings to drink. It is great as a deterrent, so I have not even bothered to test any reaction to drinking.  The thought crossed my mind just to try, but the thought of being horribly Ill just to see if I would be didn&#039;t seem like the brightest idea!  Anyway, my main reason for posting this is to say that unlike many of these posts, I have suffered some side effects.  I&#039;ve struggled a little with sexual performance and have had some rash and acne issues.  I will visit the doctor to see what can be done about these because I don&#039;t want to stop this medication.  It works great. I am forty two and have been abusing alcohol for at least twenty years or so.  Almost seven weeks clean!\"\n",
            "-------------------------------\n",
            "\"I use Xanax (1mg) for anxiety and panic disorder. This medicine has been the only drug that has brought relief to to my constant anxiety. I don&#039;t know where I&#039;d be without it. I take the use of this drug very seriously and don&#039;t abuse it. I use it only when needed for panic or when anxiety is so intense I simply can&#039;t tolerate it any longer. When used properly this drug is safe and you will not become addicted. It&#039;s very fast acting (15 min) which is important when a panic attack hits. Side effects are minimal for me. I get the &quot;jelly legs&quot; and that&#039;s about it. It&#039;s never made me stumble or fall though. The generic version isn&#039;t quite as good as the real stuff, but if you must use generic, the round blue tabs are better than the oval ones.\"\n",
            "-------------------------------\n",
            "\"Did 2.5 mg/day for 1 week, moved to 5 mg after that. After 10 days, developed mild ringing in ears and a few other mild symptoms. Stopped Cialis. Too late, damage already done to hair cells in cochlea (inner ear). Then did Prednisone (5 days at 30 mg, then 5 days at 15 mg), which seems to have helped the ringing in the ears. After 6 weeks of no Cialis I then started again but this 2nd round had NO side effects at all and ringing in ears seems to be diminishing. Been on 5 mg again now for 3 weeks, all ok, very good positive effects (but ringing hasn&#039;t completely gone). My drug plan pays 100% luckily as long as I buy it in 90 day supply ($450) to incur only 1 pharma dispensing fee.\"\n",
            "-------------------------------\n",
            "\"800 mg of tegretol and still in pain\"\n",
            "-------------------------------\n",
            "\"Give it time to get your method of application mastered. I bend the four corners in slightly to make them stick better so they don&#039;t peel up. Also don&#039;t put the film directly over you saliva duct on your check, try putting it below or in front of it. \r\n",
            "\r\n",
            "With manufacturer coupon and BCBS I pay $30 for # 60 Bunavail 4.2/0.7mg films. Bunavail is a tier 3 medication, manufacturer card pays $100.\"\n",
            "-------------------------------\n",
            "\"on March 21-25 I had my period. On March 26 I had an accident. My cycle ranges from 28-33 days. I took plan B within 1 hour that same day March 26. That day I got cramps and got really tired. The next day I experienced diahrrea. On March 31st I started bleeding again which scared me and it lasted 4 days. The bleeding was really light. I spent all April worrying.  I took over 10 home pregnancy test and they were all negative. Well today I started bleeding again which makes me 3 days late from my actual period. Yet on time from the plan B period. I never want to go through this ever again.\"\n",
            "-------------------------------\n",
            "\"As a 64 yr old female I was having severe pain and stiffness in both knees due to advanced osteoarthritis. Ortho doc recommended a series of 4 weekly Orthovisc injections in both knees.  For me, the shots were very painful. There was no improvement until after the 3rd week. I am now 1 wk. post the 4th and final shots and have greatly decreased pain. I now can exercise regularly without pain. The only difficulty I still have is walking up and down stairs. I highly recommended the orthovisc injection treatment.\"\n",
            "-------------------------------\n",
            "\"Experience horrible muscle spasms due to cerebral palsy was on a very high dose of zanaflex for the last eight years topped out on that and my very brave and forward thinking doc put me on soma three times a day. It does wonders coupled with opiate lyrica and an NSAIDS I virtually have little to no spasms and wake up everyday happy instead of suicidal. I don&rsquo;t understand why a perfectly harmless drug is so blacklisted it is not a barbiturate after you take soma it turns into meprobamate these drugs mimic barbiturates but are not true barbiturates like pheno or secobarb so doctors out there remember if ur not doing anything wrong the DEA can&rsquo;t screw with you\"\n",
            "-------------------------------\n",
            "\"Extremely effective birth control that makes me feel confident and safe as a single young woman. My friends have had pregnancy scares while taking the pill so it is nice that Mirena removes all that fear since I don&#039;t risk pregnancy by forgetting to take a pill. However, the insertion was excruciating and an absolutely horrible experience. I don&#039;t regret it though because it has completely stopped my menstruation saving me so much money on period products.\"\n",
            "-------------------------------\n",
            "\"I got a yeast infection after going off birth control and my hormones getting messed up. I have had mild yeast infections before and felt this one coming on three days ago though I never went to get it diagnosed at the doctor. I tried to just get through it by applying some anti itch creams and taking homeopathic supplements but my itching/burning just got worse. This morning, I couldn&#039;t even leave my apartment for work I was so swollen and itchy! I bought this product and right off the bat it was super itchy and burned and I started reading the reviews and thought &quot;oh no what have I done!&quot;.\r\r\n",
            "BUT after laying in bed for 2 hours it has stopped hurting and now I feel no itch or pain. I have also been icing. Let&#039;s hope this continues to work!\"\n",
            "-------------------------------\n",
            "\"Personally I liked the nexplanon when I first got it, well until I had sex. After a month of having the implant I had sex for the first time since having it implanted then the next day I had a period and stayed on for almost a month and a half. After that I went to my doctor and my iron and vitamin D was very low so I had to take pills for that as well. I stopped having a period heavy period for about 2 months. After each time I had sex I started my period tho which is still annoying. I&#039;ve had it since 10-2016 and its a good birth control but only because I haven&#039;t gotten pregnant but otherwise I wouldn&#039;t recommend. My breast hurt so bad all the time. My skin has broken out . I&#039;ve gained 30  pounds and I&#039;m always angry. I get heat flashes!\"\n",
            "-------------------------------\n",
            "\"I have been taking baclofen for a couple of months now for severe muscle spasms. Not only does it help those muscle spasms, but I have borderline personality disorder, and this medication has given me a sense of well-being. I also have severe anxiety, I find when I take the baclofen, (80 mgs a day) I do not feel anxious, nor do I have anxiety attacks. I believe more research needs to be done on this drug about its effects on different types of mental illness.\"\n",
            "-------------------------------\n",
            "\"I was having a blast with a manic episode, then the deepest depressive episode set in, and Seroquel is the only medicine that stopped it.\"\n",
            "-------------------------------\n",
            "\"I just took my first dose and within an hour I went. But I&#039;ve been sweating like anything,,  I have terrible gas and bloating. Mentally i feel a little anxious but ok. I&#039;m wondering how long this stuff blocks the receptors?  Anyone?\"\n",
            "-------------------------------\n",
            "\"been on Cymbalta 60 mg for 8 yrs. I have chronic headaches.I was told I have fibro yrs ago, depression. Dr tried to get me off 4-5 yrs ago. Couldn&#039;t!  Dr says now let&#039;s do it. titrated from 60mg alternated with 30mg every other day. After 2 Weeks went to 30mg after 10 days, 30 every other day. After a week of that I caught a virus and couldnt eat so I just cold turkeyed it. I had the bad zings! Sick, depressed, migraines &amp; achy, GROUCHY, 3 weeks off, better but irritable, achy, dr will let me try Savella, I look after  a toddler SO grouchy not good or my nature.  I&#039;d go back on but....also used generic Duloxiotine?\"\n",
            "-------------------------------\n"
          ]
        }
      ]
    }
  ]
}